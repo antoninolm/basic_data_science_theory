{
 "cells": [
  {
   "cell_type": "markdown",
   "id": "ade0941b",
   "metadata": {},
   "source": [
    "Array Basics\n",
    "Summary"
   ]
  },
  {
   "cell_type": "code",
   "execution_count": 2,
   "id": "86bc09cc",
   "metadata": {},
   "outputs": [],
   "source": [
    "import numpy as np"
   ]
  },
  {
   "cell_type": "markdown",
   "id": "b5ee5e36",
   "metadata": {},
   "source": [
    "# Linear Algebra"
   ]
  },
  {
   "cell_type": "markdown",
   "id": "6e9433e5",
   "metadata": {},
   "source": [
    "## Linear Algebra with Python – Using NumPy Arrays\n",
    "\n",
    "The foundation of linear algebra in Python is the **NumPy array**, an n-dimensional structure that can represent both vectors and matrices.\n",
    "\n",
    "* **Vectors**: 1-dimensional arrays\n",
    "\n",
    "  ```python\n",
    "  v = np.array([1, 2, 3, 4, 5, 6])\n",
    "  ```\n",
    "\n",
    "* **Matrices**: 2-dimensional arrays created with nested lists\n",
    "\n",
    "  ```python\n",
    "  A = np.array([[1, 2], [3, 4]])\n",
    "  # [[1 2]\n",
    "  #  [3 4]]\n",
    "  ```\n",
    "\n",
    "* **Combining vectors into matrices**:\n",
    "  Use `np.column_stack()` to join vectors as columns in a new matrix.\n",
    "\n",
    "  ```python\n",
    "  v = np.array([-2, -2, -2, -2])\n",
    "  u = np.array([0, 0, 0, 0])\n",
    "  w = np.array([3, 3, 3, 3])\n",
    "  A = np.column_stack((v, u, w))\n",
    "  # [[-2  0  3]\n",
    "  #  [-2  0  3]\n",
    "  #  [-2  0  3]\n",
    "  #  [-2  0  3]]\n",
    "  ```\n",
    "\n",
    "* **Shape of arrays**:\n",
    "  Accessed with `.shape`. For example, a 2x2 matrix has shape `(2, 2)`.\n",
    "\n",
    "* **Indexing**:\n",
    "  NumPy allows indexing across dimensions in one bracket, using commas.\n",
    "\n",
    "  ```python\n",
    "  A[0, 1]   # accesses row 0, column 1 → 2\n",
    "  ```\n",
    "\n",
    "* **Slicing with colons**:\n",
    "  Colons select subsets. For example, the second column of a matrix:\n",
    "\n",
    "  ```python\n",
    "  A[:, 1]   # → [2 4]\n",
    "  ```\n",
    "\n",
    "**Key ideas**:\n",
    "\n",
    "* NumPy arrays are versatile structures for vectors and matrices.\n",
    "* Indexing works with rows and columns simultaneously.\n",
    "* Colons (`:`) make it easy to select full dimensions like rows or columns.\n",
    "\n",
    "👉 With these basics, NumPy provides the building blocks for more advanced linear algebra operations.\n",
    "\n",
    "Would you like me to also add a **comparison table** showing how operations differ between regular Python lists and NumPy arrays?\n"
   ]
  },
  {
   "cell_type": "code",
   "execution_count": 12,
   "id": "0192e58c",
   "metadata": {},
   "outputs": [
    {
     "name": "stdout",
     "output_type": "stream",
     "text": [
      "[[-2  4  5]\n",
      " [-6  1 -7]\n",
      " [ 2 -3  9]\n",
      " [ 3  8  0]]\n",
      "(4, 3)\n",
      "[ 5 -7  9  0]\n"
     ]
    }
   ],
   "source": [
    "# ======================\n",
    "# Instruction: Three NumPy arrays are given (vector_1, vector_2, vector_3).\n",
    "#   - Use np.column_stack() to combine them into a 4x3 matrix.\n",
    "#   - vector_1 = first column, vector_2 = second column, vector_3 = third column.\n",
    "#   - Print matrix to see its output.\n",
    "# ======================\n",
    "vector_1 = np.array([-2, -6, 2, 3])\n",
    "vector_2 = np.array([4, 1, -3, 8])\n",
    "vector_3 = np.array([5, -7, 9, 0])\n",
    "\n",
    "matrix = np.column_stack((vector_1, vector_2, vector_3))\n",
    "print(matrix)\n",
    "\n",
    "# ======================\n",
    "# Instruction: Print out the shape of matrix.\n",
    "# ======================\n",
    "print(matrix.shape)\n",
    "\n",
    "# ======================\n",
    "# Instruction: Use array indexing to print the third column of matrix.\n",
    "# ======================\n",
    "print(matrix[:, 2])\n"
   ]
  },
  {
   "cell_type": "markdown",
   "id": "c02cbc47",
   "metadata": {},
   "source": [
    "## Linear Algebra with Python – Using NumPy for Linear Algebra Operations\n",
    "\n",
    "Once we create vectors and matrices with NumPy arrays, we can perform **linear algebra operations** easily using built-in operators and functions.\n",
    "\n",
    "1. Scalar Multiplication\n",
    "\n",
    "Multiplying a matrix or vector by a scalar multiplies each element by that scalar.\n",
    "\n",
    "```python\n",
    "A = np.array([[1,2],[3,4]])\n",
    "4 * A\n",
    "# [[ 4  8]\n",
    "#  [12 16]]\n",
    "```\n",
    "\n",
    "2. Vector and Matrix Addition\n",
    "\n",
    "Addition is elementwise, and only works if the vectors or matrices have the same shape.\n",
    "\n",
    "```python\n",
    "A = np.array([[1,2],[3,4]])\n",
    "B = np.array([[-4,-3],[-2,-1]])\n",
    "A + B\n",
    "# [[-3 -1]\n",
    "#  [ 1  3]]\n",
    "```\n",
    "\n",
    "3. Dot Product\n",
    "\n",
    "For vectors, the **dot product** is computed using `np.dot()`.\n",
    "\n",
    "```python\n",
    "v = np.array([-1,-2,-3])\n",
    "u = np.array([2,2,2])\n",
    "np.dot(v, u)\n",
    "# -12\n",
    "```\n",
    "\n",
    "4. Matrix Multiplication\n",
    "\n",
    "Matrix multiplication is done with `np.matmul()` or the shorthand `@`.\n",
    "\n",
    "* Important: `*` is **elementwise multiplication**, not matrix multiplication.\n",
    "\n",
    "```python\n",
    "A = np.array([[1,2],[3,4]])\n",
    "B = np.array([[-4,-3],[-2,-1]])\n",
    "\n",
    "np.matmul(A, B)\n",
    "# [[ -8  -5]\n",
    "#  [-20 -13]]\n",
    "\n",
    "# or shorthand\n",
    "A @ B\n",
    "# [[ -8  -5]\n",
    "#  [-20 -13]]\n",
    "```\n",
    "\n",
    "---\n",
    "\n",
    "**Key Takeaways:**\n",
    "\n",
    "* NumPy reuses Python operators (`*`, `+`) for elementwise operations.\n",
    "* Use `np.dot()` for dot products.\n",
    "* Use `np.matmul()` or `@` for matrix multiplication.\n",
    "* Always pay attention to the difference between elementwise operations and true linear algebra operations.\n",
    "\n",
    "👉 Would you like me to also make a **comparison table** (Operators vs NumPy Functions) so it’s easy to see when to use each?\n"
   ]
  },
  {
   "cell_type": "code",
   "execution_count": 5,
   "id": "64e6ac47",
   "metadata": {},
   "outputs": [
    {
     "name": "stdout",
     "output_type": "stream",
     "text": [
      "[[  6  14 -24]\n",
      " [-14  10 -18]]\n",
      "[[ -9  -8]\n",
      " [-14 -18]]\n",
      "[[ -2   5 -10]\n",
      " [ -2  13 -24]\n",
      " [ -2  21 -38]]\n"
     ]
    }
   ],
   "source": [
    "# ======================\n",
    "# Given matrices\n",
    "# ======================\n",
    "# A: 2 x 3 matrix\n",
    "A = np.array([[2, 3, -4], \n",
    "              [-2, 1, -3]])\n",
    "# B: 2 x 3 matrix\n",
    "B = np.array([[1, -1, 4], \n",
    "              [3, -3, 3]])\n",
    "# C: 3 x 2 matrix\n",
    "C = np.array([[1, 2], \n",
    "              [3, 4], \n",
    "              [5, 6]])\n",
    "\n",
    "# ======================\n",
    "# Instruction: Calculate D = 4A - 2B\n",
    "# ======================\n",
    "D = 4 * A - 2 * B\n",
    "print(D)\n",
    "\n",
    "# ======================\n",
    "# Instruction: Calculate E = AC\n",
    "#   - A is (2x3), C is (3x2), result is (2x2)\n",
    "# ======================\n",
    "E = np.matmul(A, C)\n",
    "print(E)\n",
    "\n",
    "# ======================\n",
    "# Instruction: Calculate F = CA\n",
    "#   - C is (3x2), A is (2x3), result is (3x3)\n",
    "# ======================\n",
    "F = C @ A\n",
    "print(F)\n"
   ]
  },
  {
   "cell_type": "markdown",
   "id": "4316ee4b",
   "metadata": {},
   "source": [
    "## Special Matrices\n",
    "\n",
    "NumPy provides convenient functions to create commonly used matrices in linear algebra.\n",
    "\n",
    "An **identity matrix** can be created with `np.eye()`. The function takes an integer argument to define the size of the square matrix.\n",
    "\n",
    "Example: a 4×4 identity matrix\n",
    "\n",
    "```python\n",
    "identity = np.eye(4)\n",
    "```\n",
    "\n",
    "Output:\n",
    "\n",
    "```\n",
    "[[1. 0. 0. 0.]\n",
    " [0. 1. 0. 0.]\n",
    " [0. 0. 1. 0.]\n",
    " [0. 0. 0. 1.]]\n",
    "```\n",
    "\n",
    "A **vector or matrix of zeros** can be created with `np.zeros()`. This function takes a tuple representing the shape of the array.\n",
    "\n",
    "Example: a vector of 5 zeros\n",
    "\n",
    "```python\n",
    "zero_vector = np.zeros((5))\n",
    "```\n",
    "\n",
    "Output:\n",
    "\n",
    "```\n",
    "[0. 0. 0. 0. 0.]\n",
    "```\n",
    "\n",
    "Example: a 3×2 zero matrix\n",
    "\n",
    "```python\n",
    "zero_matrix = np.zeros((3,2))\n",
    "```\n",
    "\n",
    "Output:\n",
    "\n",
    "```\n",
    "[[0. 0.]\n",
    " [0. 0.]\n",
    " [0. 0.]]\n",
    "```\n",
    "\n",
    "The **transpose of a matrix** is accessed using the `.T` attribute. Transposing swaps rows and columns.\n",
    "\n",
    "Example:\n",
    "\n",
    "```python\n",
    "A = np.array([[1,2],[3,4]])\n",
    "A_transpose = A.T\n",
    "```\n",
    "\n",
    "`A` outputs as:\n",
    "\n",
    "```\n",
    "[[1 2]\n",
    " [3 4]]\n",
    "```\n",
    "\n",
    "`A_transpose` outputs as:\n",
    "\n",
    "```\n",
    "[[1 3]\n",
    " [2 4]]\n",
    "```\n",
    "\n",
    "**Key idea**: The transpose flips the matrix across its diagonal, turning rows into columns and columns into rows.\n"
   ]
  },
  {
   "cell_type": "code",
   "execution_count": 6,
   "id": "56d4f218",
   "metadata": {},
   "outputs": [
    {
     "name": "stdout",
     "output_type": "stream",
     "text": [
      "[[1. 0. 0.]\n",
      " [0. 1. 0.]\n",
      " [0. 0. 1.]]\n",
      "[[1. 0. 0.]\n",
      " [0. 1. 0.]\n",
      " [0. 0. 1.]]\n",
      "[[ 1  0 -1]\n",
      " [-1  1  2]\n",
      " [ 1  0  1]]\n",
      "[[ 0.5  0.   0.5]\n",
      " [ 1.5  1.  -0.5]\n",
      " [-0.5  0.   0.5]]\n"
     ]
    }
   ],
   "source": [
    "# ======================\n",
    "# Given matrices A and B (3x3 each)\n",
    "# ======================\n",
    "A = np.array([[1, -1, 1], \n",
    "              [0,  1, 0], \n",
    "              [-1, 2, 1]])\n",
    "\n",
    "B = np.array([[0.5,  1.5, -0.5], \n",
    "              [0,    1,    0], \n",
    "              [0.5, -0.5,  0.5]])\n",
    "\n",
    "# ======================\n",
    "# Instruction: Print out the matrix product AB and BA.\n",
    "#   - If AB is the identity matrix, A and B are inverses of each other.\n",
    "# ======================\n",
    "print(np.matmul(A, B))\n",
    "print(np.matmul(B, A))\n",
    "\n",
    "# ======================\n",
    "# Instruction: Print out the transpose of A and B.\n",
    "#   - Then check the first row of each transposed matrix.\n",
    "# ======================\n",
    "print(A.T)\n",
    "print(B.T)\n"
   ]
  },
  {
   "cell_type": "markdown",
   "id": "5f2b6992",
   "metadata": {},
   "source": [
    "## ### Additional Linear Algebra Operations\n",
    "\n",
    "NumPy provides the **`numpy.linalg`** sublibrary for advanced linear algebra operations.\n",
    "\n",
    "#### Vector Norm\n",
    "\n",
    "The **norm** (or magnitude/length) of a vector is found using `np.linalg.norm()`.\n",
    "\n",
    "```python\n",
    "v = np.array([2, -4, 1])\n",
    "v_norm = np.linalg.norm(v)\n",
    "# 4.58257569495584\n",
    "```\n",
    "\n",
    "This represents the distance of the vector from the origin.\n",
    "\n",
    "#### Matrix Inverse\n",
    "\n",
    "The **inverse** of a square matrix can be calculated with `np.linalg.inv()`.\n",
    "\n",
    "```python\n",
    "A = np.array([[1, 2], [3, 4]])\n",
    "print(np.linalg.inv(A))\n",
    "# [[-2.   1. ]\n",
    "#  [ 1.5 -0.5]]\n",
    "```\n",
    "\n",
    "Only square matrices with a non-zero determinant have inverses.\n",
    "\n",
    "#### Solving Systems of Equations\n",
    "\n",
    "We can solve linear equations in **Ax = b** form using `np.linalg.solve(A, b)`.\n",
    "\n",
    "For example, the system:\n",
    "\n",
    "```\n",
    "x + 4y - z = -1\n",
    "-x - 3y + 2z = 2\n",
    "2x - y - 2z = -2\n",
    "```\n",
    "\n",
    "Converted into matrix form:\n",
    "\n",
    "```python\n",
    "A = np.array([[1, 4, -1],\n",
    "              [-1, -3, 2],\n",
    "              [2, -1, -2]])\n",
    "b = np.array([-1, 2, -2])\n",
    "\n",
    "x, y, z = np.linalg.solve(A, b)\n",
    "print((x, y, z))\n",
    "# (0, 0, 1.0)\n",
    "```\n",
    "\n",
    "**Solution:**\n",
    "\n",
    "```\n",
    "x = 0\n",
    "y = 0\n",
    "z = 1\n",
    "```\n",
    "\n",
    "---\n",
    "\n",
    "**Key takeaway**:\n",
    "\n",
    "* `np.linalg.norm()` → vector length\n",
    "* `np.linalg.inv()` → matrix inverse\n",
    "* `np.linalg.solve()` → solves linear systems\n",
    "\n",
    "These tools extend NumPy’s power from simple array manipulation to solving real mathematical problems.\n",
    "\n",
    "Do you want me to also include a **summary table** of the main `numpy.linalg` functions for quick reference?\n"
   ]
  },
  {
   "cell_type": "code",
   "execution_count": 10,
   "id": "63ee7f88",
   "metadata": {},
   "outputs": [
    {
     "ename": "SyntaxError",
     "evalue": "invalid syntax (1640202312.py, line 25)",
     "output_type": "error",
     "traceback": [
      "\u001b[0;36m  Cell \u001b[0;32mIn [10], line 25\u001b[0;36m\u001b[0m\n\u001b[0;31m    ```\u001b[0m\n\u001b[0m    ^\u001b[0m\n\u001b[0;31mSyntaxError\u001b[0m\u001b[0;31m:\u001b[0m invalid syntax\n"
     ]
    }
   ],
   "source": [
    "import numpy as np\n",
    "\n",
    "# ======================\n",
    "# Instruction: Represent the given system of equations in Ax = b form.\n",
    "# ======================\n",
    "# System:\n",
    "# 4x + 0y + 1z = 2\n",
    "# -3x - 1y + 2z = 0\n",
    "# -1x + 0.5y - 1.5z = -4\n",
    "\n",
    "A = np.array([\n",
    "    [4, 0, 1],\n",
    "    [-3, -1, 2],\n",
    "    [-1, 0.5, -1.5]\n",
    "])\n",
    "\n",
    "b = np.array([2, 0, -4])\n",
    "\n",
    "# ======================\n",
    "# Instruction: Solve the system Ax = b with np.linalg.solve().\n",
    "# ======================\n",
    "x, y, z = np.linalg.solve(A, b)\n",
    "\n",
    "print((x, y, z))\n",
    "```\n"
   ]
  },
  {
   "cell_type": "code",
   "execution_count": 11,
   "id": "f045a25d",
   "metadata": {},
   "outputs": [
    {
     "name": "stdout",
     "output_type": "stream",
     "text": [
      "(np.float64(-1.4999999999999998), np.float64(-0.5909090909090907), np.float64(-1.8636363636363633), np.float64(1.0909090909090908))\n"
     ]
    }
   ],
   "source": [
    "import numpy as np\n",
    "\n",
    "# ======================\n",
    "# Instruction: Represent the given system of equations in Ax = b form.\n",
    "# ======================\n",
    "# System:\n",
    "# 2a + 0b - 2c + 3d = 4\n",
    "# -1a + 4b - 1c + 0d = 1\n",
    "# 3a - 1b - 2c + 2d = 2\n",
    "# -2a - 1b + 3c + 0d = -2\n",
    "\n",
    "A = np.array([\n",
    "    [2, 0, -2, 3],\n",
    "    [-1, 4, -1, 0],\n",
    "    [3, -1, -2, 2],\n",
    "    [-2, -1, 3, 0]\n",
    "])\n",
    "\n",
    "b = np.array([4, 1, 2, -2])\n",
    "\n",
    "# ======================\n",
    "# Instruction: Solve the system Ax = b with np.linalg.solve().\n",
    "# ======================\n",
    "a, b_var, c, d = np.linalg.solve(A, b)\n",
    "\n",
    "print((a, b_var, c, d))\n"
   ]
  },
  {
   "cell_type": "markdown",
   "id": "83659a7e",
   "metadata": {},
   "source": [
    "# Review"
   ]
  },
  {
   "cell_type": "code",
   "execution_count": 17,
   "id": "47d81afd",
   "metadata": {},
   "outputs": [],
   "source": [
    "import numpy as np\n",
    "import matplotlib.pyplot as plt\n",
    "\n",
    "\n",
    "# ======================\n",
    "# Preloaded heart image (7x7 matrix of grayscale values)\n",
    "# ======================\n",
    "heart_img = np.array([\n",
    "    [255, 0, 0, 255, 0, 0, 255],\n",
    "    [0, 255/2, 255/2, 0, 255/2, 255/2, 0],\n",
    "    [0, 255/2, 255/2, 255/2, 255/2, 255/2, 0],\n",
    "    [0, 255/2, 255/2, 255/2, 255/2, 255/2, 0],\n",
    "    [255, 0, 255/2, 255/2, 255/2, 0, 255],\n",
    "    [255, 255, 0, 255/2, 0, 255, 255],\n",
    "    [255, 255, 255, 0, 255, 255, 255]\n",
    "])\n",
    "\n",
    "# ======================\n",
    "# Helper function to display images\n",
    "# ======================\n",
    "def show_image(image, name_identifier):\n",
    "    plt.imshow(image, cmap=\"gray\")\n",
    "    plt.title(name_identifier)\n",
    "    plt.show()"
   ]
  },
  {
   "cell_type": "code",
   "execution_count": 18,
   "id": "64c8b37a",
   "metadata": {},
   "outputs": [
    {
     "data": {
      "image/png": "[encoded data removed]",
      "text/plain": [
       "<Figure size 640x480 with 1 Axes>"
      ]
     },
     "metadata": {},
     "output_type": "display_data"
    }
   ],
   "source": [
    "# ======================\n",
    "# Step 1: Show original heart image\n",
    "# ======================\n",
    "show_image(heart_img, \"Heart Image\")"
   ]
  },
  {
   "cell_type": "code",
   "execution_count": 19,
   "id": "eb3c1519",
   "metadata": {},
   "outputs": [
    {
     "data": {
      "image/png": "[encoded data removed]",
      "text/plain": [
       "<Figure size 640x480 with 1 Axes>"
      ]
     },
     "metadata": {},
     "output_type": "display_data"
    }
   ],
   "source": [
    "# ======================\n",
    "# Step 2: Invert colors of heart image\n",
    "# ======================\n",
    "inverted_heart_img = 255 - heart_img\n",
    "show_image(inverted_heart_img, \"Inverted Heart Image\")"
   ]
  },
  {
   "cell_type": "code",
   "execution_count": 20,
   "id": "bead357a",
   "metadata": {},
   "outputs": [
    {
     "data": {
      "image/png": "[encoded data removed]",
      "text/plain": [
       "<Figure size 640x480 with 1 Axes>"
      ]
     },
     "metadata": {},
     "output_type": "display_data"
    }
   ],
   "source": [
    "# ======================\n",
    "# Step 3: Rotate (transpose) heart image\n",
    "# ======================\n",
    "rotated_heart_img = heart_img.T\n",
    "show_image(rotated_heart_img, \"Rotated Heart Image\")"
   ]
  },
  {
   "cell_type": "code",
   "execution_count": 21,
   "id": "437fd105",
   "metadata": {},
   "outputs": [
    {
     "data": {
      "image/png": "[encoded data removed]",
      "text/plain": [
       "<Figure size 640x480 with 1 Axes>"
      ]
     },
     "metadata": {},
     "output_type": "display_data"
    }
   ],
   "source": [
    "# ======================\n",
    "# Step 4: Generate and show a random image (7x7 matrix of random grayscale values)\n",
    "# ======================\n",
    "random_img = np.random.randint(0, 255, (7, 7))\n",
    "show_image(random_img, \"Random Image\")"
   ]
  },
  {
   "cell_type": "code",
   "execution_count": 22,
   "id": "5fe2c8d0",
   "metadata": {},
   "outputs": [
    {
     "data": {
      "image/png": "[encoded data removed]",
      "text/plain": [
       "<Figure size 640x480 with 1 Axes>"
      ]
     },
     "metadata": {},
     "output_type": "display_data"
    }
   ],
   "source": [
    "# ======================\n",
    "# Step 5: Solve for x in random_img · x = heart_img\n",
    "# ======================\n",
    "x = np.linalg.solve(random_img, heart_img)\n",
    "show_image(x, \"x\")"
   ]
  },
  {
   "cell_type": "code",
   "execution_count": 23,
   "id": "6c1b549b",
   "metadata": {},
   "outputs": [
    {
     "data": {
      "image/png": "[encoded data removed]",
      "text/plain": [
       "<Figure size 640x480 with 1 Axes>"
      ]
     },
     "metadata": {},
     "output_type": "display_data"
    }
   ],
   "source": [
    "# ======================\n",
    "# Step 6: Reconstruct heart image by multiplying random_img and x\n",
    "# ======================\n",
    "solved_heart_img = np.matmul(random_img, x)\n",
    "show_image(solved_heart_img, \"Solved Heart Image\")"
   ]
  },
  {
   "cell_type": "code",
   "execution_count": null,
   "id": "a995df5a",
   "metadata": {},
   "outputs": [],
   "source": []
  }
 ],
 "metadata": {
  "kernelspec": {
   "display_name": "Python 3 (ipykernel)",
   "language": "python",
   "name": "python3"
  },
  "language_info": {
   "codemirror_mode": {
    "name": "ipython",
    "version": 3
   },
   "file_extension": ".py",
   "mimetype": "text/x-python",
   "name": "python",
   "nbconvert_exporter": "python",
   "pygments_lexer": "ipython3",
   "version": "3.10.6"
  },
  "toc": {
   "base_numbering": 1,
   "nav_menu": {},
   "number_sections": true,
   "sideBar": true,
   "skip_h1_title": false,
   "title_cell": "Table of Contents",
   "title_sidebar": "Contents",
   "toc_cell": false,
   "toc_position": {},
   "toc_section_display": true,
   "toc_window_display": false
  }
 },
 "nbformat": 4,
 "nbformat_minor": 5
}
