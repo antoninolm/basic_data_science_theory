{
  "cells": [
    {
      "cell_type": "markdown",
      "metadata": {},
      "source": "# Pandas Basics Portfolio\nThis notebook demonstrates foundational pandas concepts through challenges and practical code."
    },
    {
      "cell_type": "markdown",
      "metadata": {},
      "source": "## Introduction to Pandas & NumPy\n**Challenge:** Perform high-speed numerical operations without writing manual loops. **Theory:** NumPy provides vectorized arrays while pandas builds on NumPy to add labeled data structures."
    },
    {
      "cell_type": "code",
      "metadata": {},
      "execution_count": null,
      "outputs": [],
      "source": "import numpy as np\nimport pandas as pd"
    },
    {
      "cell_type": "markdown",
      "metadata": {},
      "source": "### Challenge: Subtract a constant from every price in a list.\n**Theory:** NumPy arrays support element-wise operations, avoiding Python loops."
    },
    {
      "cell_type": "code",
      "metadata": {},
      "execution_count": null,
      "outputs": [],
      "source": "toyPrices = np.array([5,8,3,6])\ntoyPrices - 2"
    },
    {
      "cell_type": "markdown",
      "metadata": {},
      "source": "### Challenge: Label numeric data with custom names.\n**Theory:** A pandas `Series` pairs values with an index so we can reference data by label."
    },
    {
      "cell_type": "code",
      "metadata": {},
      "execution_count": null,
      "outputs": [],
      "source": "ages = np.array([13,25,19])\nser = pd.Series(ages, index=['Emma','Swetha','Serajh'])\nser"
    },
    {
      "cell_type": "markdown",
      "metadata": {},
      "source": "### Challenge: Organize records in a table and choose a meaningful index.\n**Theory:** A `DataFrame` is a 2D table; `.set_index` assigns a column as row labels."
    },
    {
      "cell_type": "code",
      "metadata": {},
      "execution_count": null,
      "outputs": [],
      "source": "df = pd.DataFrame([\n    ['John Smith','123 Main St',34],\n    ['Jane Doe','456 Maple Ave',28],\n    ['Joe Schmo','789 Broadway',51]\n], columns=['name','address','age'])\n\ndf.set_index('name')"
    },
    {
      "cell_type": "markdown",
      "metadata": {},
      "source": "## Lesson 1 \u2014 Lambda Functions\nAnonymous one-line functions help express small transformations inline."
    },
    {
      "cell_type": "markdown",
      "metadata": {},
      "source": "### Challenge: Increment numbers without defining a full function.\n**Theory:** `lambda` creates a small unnamed function."
    },
    {
      "cell_type": "code",
      "metadata": {},
      "execution_count": null,
      "outputs": [],
      "source": "add_two = lambda x: x + 2\nadd_two(3)"
    },
    {
      "cell_type": "markdown",
      "metadata": {},
      "source": "### Challenge: Check if a letter exists inside a word.\n**Theory:** The `in` operator tests substring membership."
    },
    {
      "cell_type": "code",
      "metadata": {},
      "execution_count": null,
      "outputs": [],
      "source": "contains_a = lambda word: 'a' in word\ncontains_a('banana')"
    },
    {
      "cell_type": "markdown",
      "metadata": {},
      "source": "### Challenge: Flag strings longer than twelve characters.\n**Theory:** `len()` returns length; combine with comparison."
    },
    {
      "cell_type": "code",
      "metadata": {},
      "execution_count": null,
      "outputs": [],
      "source": "long_string = lambda s: len(s) > 12\nlong_string('photosynthesis')"
    },
    {
      "cell_type": "markdown",
      "metadata": {},
      "source": "### Challenge: Determine a word's final letter.\n**Theory:** Negative indexing retrieves characters from the end."
    },
    {
      "cell_type": "code",
      "metadata": {},
      "execution_count": null,
      "outputs": [],
      "source": "ends_in_a = lambda s: s[-1] == 'a'\nends_in_a('data')"
    },
    {
      "cell_type": "markdown",
      "metadata": {},
      "source": "### Challenge: Return double a number when it's large, else zero.\n**Theory:** Lambdas support inline conditionals `A if cond else B`."
    },
    {
      "cell_type": "code",
      "metadata": {},
      "execution_count": null,
      "outputs": [],
      "source": "double_or_zero = lambda n: n*2 if n > 10 else 0\ndouble_or_zero(15)"
    },
    {
      "cell_type": "markdown",
      "metadata": {},
      "source": "### Challenge: Classify numbers as even or odd.\n**Theory:** Modulo 2 reveals parity."
    },
    {
      "cell_type": "code",
      "metadata": {},
      "execution_count": null,
      "outputs": [],
      "source": "even_or_odd = lambda n: 'even' if n % 2 == 0 else 'odd'\neven_or_odd(7)"
    },
    {
      "cell_type": "markdown",
      "metadata": {},
      "source": "### Challenge: Identify multiples of three.\n**Theory:** Use `%` to test divisibility."
    },
    {
      "cell_type": "code",
      "metadata": {},
      "execution_count": null,
      "outputs": [],
      "source": "multiple_of_three = lambda n: 'multiple of three' if n % 3 == 0 else 'not a multiple'\nmultiple_of_three(9)"
    },
    {
      "cell_type": "markdown",
      "metadata": {},
      "source": "### Challenge: Grab the ones place of a number.\n**Theory:** `% 10` isolates the final digit."
    },
    {
      "cell_type": "code",
      "metadata": {},
      "execution_count": null,
      "outputs": [],
      "source": "ones_place = lambda n: n % 10\nones_place(123)"
    },
    {
      "cell_type": "markdown",
      "metadata": {},
      "source": "### Challenge: Compute twice the square of a number.\n**Theory:** Exponentiation uses `**`."
    },
    {
      "cell_type": "code",
      "metadata": {},
      "execution_count": null,
      "outputs": [],
      "source": "double_square = lambda n: 2 * (n**2)\ndouble_square(5)"
    },
    {
      "cell_type": "markdown",
      "metadata": {},
      "source": "### Challenge: Add a random amount to a base number.\n**Theory:** Lambdas can include library calls like `random.randint`."
    },
    {
      "cell_type": "code",
      "metadata": {},
      "execution_count": null,
      "outputs": [],
      "source": "import random\nadd_random = lambda n: n + random.randint(1,10)\nadd_random(5)"
    },
    {
      "cell_type": "markdown",
      "metadata": {},
      "source": "## Lesson 2 \u2014 Creating, Loading, and Selecting Data"
    },
    {
      "cell_type": "markdown",
      "metadata": {},
      "source": "### Challenge: Build a table from a Python dictionary.\n**Theory:** DataFrame columns come from dictionary keys."
    },
    {
      "cell_type": "code",
      "metadata": {},
      "execution_count": null,
      "outputs": [],
      "source": "df = pd.DataFrame({\n    'name': ['John Smith','Jane Doe','Joe Schmo'],\n    'address': ['123 Main St.','456 Maple Ave.','789 Broadway'],\n    'age': [34,28,51]\n})\ndf"
    },
    {
      "cell_type": "markdown",
      "metadata": {},
      "source": "### Challenge: Create a table from a list of lists.\n**Theory:** Provide `columns` to name each field."
    },
    {
      "cell_type": "code",
      "metadata": {},
      "execution_count": null,
      "outputs": [],
      "source": "cities = pd.DataFrame([\n    ['San Diego',100],\n    ['Los Angeles',120],\n    ['San Francisco',90]\n], columns=['Location','Employees'])\ncities"
    },
    {
      "cell_type": "markdown",
      "metadata": {},
      "source": "### Challenge: Persist data to disk and reload it.\n**Theory:** `to_csv` writes a DataFrame; `read_csv` brings it back."
    },
    {
      "cell_type": "code",
      "metadata": {},
      "execution_count": null,
      "outputs": [],
      "source": "cities.to_csv('sample.csv', index=False)\nreloaded = pd.read_csv('sample.csv')\nreloaded.head()"
    },
    {
      "cell_type": "markdown",
      "metadata": {},
      "source": "### Challenge: Inspect a DataFrame's structure.\n**Theory:** `head`, `info`, and `describe` reveal sample rows, column types, and statistics."
    },
    {
      "cell_type": "code",
      "metadata": {},
      "execution_count": null,
      "outputs": [],
      "source": "reloaded.head()\nreloaded.info()"
    },
    {
      "cell_type": "markdown",
      "metadata": {},
      "source": "### Challenge: Pull specific columns.\n**Theory:** Selecting a single column returns a Series; multiple columns give a DataFrame."
    },
    {
      "cell_type": "code",
      "metadata": {},
      "execution_count": null,
      "outputs": [],
      "source": "ages = df['age']\nsubset = df[['name','age']]\nages.head(), subset.head()"
    },
    {
      "cell_type": "markdown",
      "metadata": {},
      "source": "### Challenge: Grab rows by position.\n**Theory:** `iloc` uses integer indexing and slicing."
    },
    {
      "cell_type": "code",
      "metadata": {},
      "execution_count": null,
      "outputs": [],
      "source": "row2 = df.iloc[2]\nlast3 = df.iloc[-3:]\nrow2, last3"
    },
    {
      "cell_type": "markdown",
      "metadata": {},
      "source": "### Challenge: Filter rows with logical conditions.\n**Theory:** Boolean masks and operators `&` `|` restrict rows."
    },
    {
      "cell_type": "code",
      "metadata": {},
      "execution_count": null,
      "outputs": [],
      "source": "jan = df[df.age > 30]\nsubset = df[df['address'].str.contains('Maple')]\njan, subset"
    },
    {
      "cell_type": "markdown",
      "metadata": {},
      "source": "### Challenge: Reset the index after subsetting.\n**Theory:** `reset_index(drop=True)` creates consecutive numbering."
    },
    {
      "cell_type": "code",
      "metadata": {},
      "execution_count": null,
      "outputs": [],
      "source": "subset = df.loc[[0,2]]\nsubset.reset_index(drop=True)"
    },
    {
      "cell_type": "markdown",
      "metadata": {},
      "source": "## Lesson 3 \u2014 Modifying DataFrames"
    },
    {
      "cell_type": "markdown",
      "metadata": {},
      "source": "### Challenge: Add new columns with constants or lists.\n**Theory:** Assigning a scalar broadcasts; lists must match row count."
    },
    {
      "cell_type": "code",
      "metadata": {},
      "execution_count": null,
      "outputs": [],
      "source": "df['In Stock?'] = True\ndf['Sold in Bulk?'] = ['Yes','Yes','No']\ndf.head()"
    },
    {
      "cell_type": "markdown",
      "metadata": {},
      "source": "### Challenge: Compute values from existing columns.\n**Theory:** Vectorized arithmetic creates efficient derived columns."
    },
    {
      "cell_type": "code",
      "metadata": {},
      "execution_count": null,
      "outputs": [],
      "source": "df['Taxed Age'] = df['age'] * 0.1\ndf.head()"
    },
    {
      "cell_type": "markdown",
      "metadata": {},
      "source": "### Challenge: Transform a column with a function.\n**Theory:** `Series.apply` applies Python functions element-wise."
    },
    {
      "cell_type": "code",
      "metadata": {},
      "execution_count": null,
      "outputs": [],
      "source": "df['Lower'] = df['name'].apply(str.lower)\ndf.head()"
    },
    {
      "cell_type": "markdown",
      "metadata": {},
      "source": "### Challenge: Compute a value needing multiple columns.\n**Theory:** `DataFrame.apply` with `axis=1` operates row-by-row."
    },
    {
      "cell_type": "code",
      "metadata": {},
      "execution_count": null,
      "outputs": [],
      "source": "bonus = lambda row: row['age'] * 2 if row['age']>40 else row['age']\ndf['bonus'] = df.apply(bonus, axis=1)\ndf.head()"
    },
    {
      "cell_type": "markdown",
      "metadata": {},
      "source": "### Challenge: Rename columns wholesale.\n**Theory:** Assign a new list to `df.columns`."
    },
    {
      "cell_type": "code",
      "metadata": {},
      "execution_count": null,
      "outputs": [],
      "source": "df.columns = ['Name','Address','Age','In Stock?','Sold in Bulk?','Taxed Age','Lower','Bonus']\ndf.head()"
    },
    {
      "cell_type": "markdown",
      "metadata": {},
      "source": "### Challenge: Rename a single column safely.\n**Theory:** `.rename` targets specific columns."
    },
    {
      "cell_type": "code",
      "metadata": {},
      "execution_count": null,
      "outputs": [],
      "source": "df.rename(columns={'Address':'Street'}, inplace=True)\ndf.head()"
    },
    {
      "cell_type": "markdown",
      "metadata": {},
      "source": "## Lesson 4 \u2014 Aggregates in Pandas"
    },
    {
      "cell_type": "markdown",
      "metadata": {},
      "source": "### Challenge: Summarize a single column.\n**Theory:** Descriptive methods compute statistics like mean or unique counts."
    },
    {
      "cell_type": "code",
      "metadata": {},
      "execution_count": null,
      "outputs": [],
      "source": "df['Age'].mean(), df['Name'].nunique()"
    },
    {
      "cell_type": "markdown",
      "metadata": {},
      "source": "### Challenge: Count orders by product and status.\n**Theory:** `groupby` aggregates rows sharing keys."
    },
    {
      "cell_type": "code",
      "metadata": {},
      "execution_count": null,
      "outputs": [],
      "source": "orders = pd.read_csv('pandas_basics_project/data/orders.csv')\nshoe_counts = orders.groupby(['product_id','status']).order_id.count().reset_index()\nshoe_counts.head()"
    },
    {
      "cell_type": "markdown",
      "metadata": {},
      "source": "### Challenge: Compare categories across two dimensions.\n**Theory:** Pivot tables reshape grouped data for easier comparison."
    },
    {
      "cell_type": "code",
      "metadata": {},
      "execution_count": null,
      "outputs": [],
      "source": "pivoted = shoe_counts.pivot(index='product_id', columns='status', values='order_id').reset_index()\npivoted.head()"
    },
    {
      "cell_type": "markdown",
      "metadata": {},
      "source": "## Lesson 5 \u2014 Working with Multiple DataFrames"
    },
    {
      "cell_type": "markdown",
      "metadata": {},
      "source": "### Challenge: Combine customer and order information.\n**Theory:** `merge` performs SQL-style joins."
    },
    {
      "cell_type": "code",
      "metadata": {},
      "execution_count": null,
      "outputs": [],
      "source": "customers = pd.read_csv('pandas_basics_project/data/customers.csv')\ncombined = orders.merge(customers, on='customer_id', how='inner')\ncombined.head()"
    },
    {
      "cell_type": "markdown",
      "metadata": {},
      "source": "### Challenge: Merge on columns with different names.\n**Theory:** Use `left_on` and `right_on` to specify keys."
    },
    {
      "cell_type": "code",
      "metadata": {},
      "execution_count": null,
      "outputs": [],
      "source": "products = pd.read_csv('pandas_basics_project/data/products.csv')\nrenamed = products.rename(columns={'product_id':'id'})\norders.merge(renamed, left_on='product_id', right_on='id').head()"
    },
    {
      "cell_type": "markdown",
      "metadata": {},
      "source": "### Challenge: Stack two tables vertically.\n**Theory:** `pd.concat` appends rows when schemas match."
    },
    {
      "cell_type": "code",
      "metadata": {},
      "execution_count": null,
      "outputs": [],
      "source": "menu_a = pd.DataFrame({'item':['Cake','Pie']})\nmenu_b = pd.DataFrame({'item':['Donut']})\nmenu = pd.concat([menu_a, menu_b])\nmenu"
    },
    {
      "cell_type": "markdown",
      "metadata": {},
      "source": "## Reusable Helpers\nReusable helper functions streamline repetitive analysis tasks."
    },
    {
      "cell_type": "code",
      "metadata": {},
      "execution_count": null,
      "outputs": [],
      "source": "def value_props(series):\n    counts = series.value_counts()\n    props = counts / len(series)\n    return pd.DataFrame({'count': counts, 'proportion': props})\n\ndef quick_corr(df, col1, col2):\n    return df[[col1, col2]].corr().iloc[0,1]\n"
    },
    {
      "cell_type": "markdown",
      "metadata": {},
      "source": "### Challenge: Convert data types explicitly.\n**Theory:** `.astype` changes a column's dtype, helping treat numbers or categories properly."
    },
    {
      "cell_type": "code",
      "metadata": {},
      "execution_count": null,
      "outputs": [],
      "source": "combined['discount'] = combined['discount'].astype(float)\ncombined.dtypes.head()"
    },
    {
      "cell_type": "markdown",
      "metadata": {},
      "source": "### Challenge: Impose an order on string categories.\n**Theory:** `pd.Categorical` stores ordered labels for proper sorting and comparisons."
    },
    {
      "cell_type": "code",
      "metadata": {},
      "execution_count": null,
      "outputs": [],
      "source": "sizes = pd.Categorical(['M','S','L','M'], categories=['S','M','L'], ordered=True)\nsizes"
    },
    {
      "cell_type": "markdown",
      "metadata": {},
      "source": "### Challenge: Prepare categorical data for modeling.\n**Theory:** `pd.get_dummies` expands categories into binary indicator columns."
    },
    {
      "cell_type": "code",
      "metadata": {},
      "execution_count": null,
      "outputs": [],
      "source": "pd.get_dummies(products['supplier']).head()"
    },
    {
      "cell_type": "markdown",
      "metadata": {},
      "source": "### Challenge: Standardize values in a column.\n**Theory:** `.replace` swaps old entries with new ones."
    },
    {
      "cell_type": "code",
      "metadata": {},
      "execution_count": null,
      "outputs": [],
      "source": "combined['status'].replace({'Pending':'P','Shipped':'S','Delivered':'D'}, inplace=True)\ncombined[['status']].head()"
    },
    {
      "cell_type": "markdown",
      "metadata": {},
      "source": "### Challenge: Summarize distributions with statistics and plots.\n**Theory:** Measures like mean and std plus Matplotlib visuals reveal central tendency and spread."
    },
    {
      "cell_type": "code",
      "metadata": {},
      "execution_count": null,
      "outputs": [],
      "source": "import matplotlib.pyplot as plt\norders['quantity'].mean(), orders['quantity'].std()\norders['quantity'].hist()\nplt.show()"
    },
    {
      "cell_type": "markdown",
      "metadata": {},
      "source": "### Challenge: View category frequencies and proportions.\n**Theory:** `value_counts(normalize=True)` returns percentages."
    },
    {
      "cell_type": "code",
      "metadata": {},
      "execution_count": null,
      "outputs": [],
      "source": "orders['status'].value_counts(normalize=True)"
    },
    {
      "cell_type": "markdown",
      "metadata": {},
      "source": "### Challenge: Compare a numeric variable across categories.\n**Theory:** Boxplots visualize distribution differences across groups."
    },
    {
      "cell_type": "code",
      "metadata": {},
      "execution_count": null,
      "outputs": [],
      "source": "orders.boxplot(column='quantity', by='status')\nplt.show()"
    },
    {
      "cell_type": "markdown",
      "metadata": {},
      "source": "### Challenge: Overlay histograms for multiple groups.\n**Theory:** Density normalization allows comparisons despite sample size differences."
    },
    {
      "cell_type": "code",
      "metadata": {},
      "execution_count": null,
      "outputs": [],
      "source": "for label,grp in orders.groupby('status'):\n    grp['quantity'].plot(kind='hist', alpha=0.5, density=True, label=label)\nplt.legend(); plt.show()"
    },
    {
      "cell_type": "markdown",
      "metadata": {},
      "source": "### Challenge: Visualize distributions for many categories.\n**Theory:** Multi-group boxplots show spread for each subgroup."
    },
    {
      "cell_type": "code",
      "metadata": {},
      "execution_count": null,
      "outputs": [],
      "source": "orders['weekday']=pd.to_datetime(orders['order_date']).dt.day_name()\norders.boxplot(column='quantity', by='weekday', rot=45)\nplt.show()"
    },
    {
      "cell_type": "markdown",
      "metadata": {},
      "source": "### Challenge: Measure association between two numeric variables.\n**Theory:** Scatterplots reveal relationships; covariance and Pearson correlation quantify strength."
    },
    {
      "cell_type": "code",
      "metadata": {},
      "execution_count": null,
      "outputs": [],
      "source": "plt.scatter(products['price'], products['stock'])\nplt.xlabel('price'); plt.ylabel('stock'); plt.show()\nproducts[['price','stock']].cov()\nproducts[['price','stock']].corr(method='pearson')"
    },
    {
      "cell_type": "markdown",
      "metadata": {},
      "source": "### Challenge: Test independence between categorical variables.\n**Theory:** Contingency tables and the Chi-square test assess association."
    },
    {
      "cell_type": "code",
      "metadata": {},
      "execution_count": null,
      "outputs": [],
      "source": "import scipy.stats as stats\nct = pd.crosstab(combined['status'], combined['city'])\nchi2, p, dof, expected = stats.chi2_contingency(ct)\nchi2, p"
    }
  ],
  "metadata": {
    "kernelspec": {
      "display_name": "Python 3",
      "language": "python",
      "name": "python3"
    },
    "language_info": {
      "name": "python",
      "version": "3.x"
    }
  },
  "nbformat": 4,
  "nbformat_minor": 5
}