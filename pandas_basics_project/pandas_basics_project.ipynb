{
  "cells": [
    {
      "cell_type": "markdown",
      "metadata": {},
      "source": [
        "# Pandas Basics Portfolio\n",
        "This notebook explores core pandas functionality with theoretical notes and practical code examples."
      ]
    },
    {
      "cell_type": "markdown",
      "metadata": {},
      "source": [
        "## DataFrame Creation and CSV I/O\n",
        "Load the portfolio CSVs into pandas DataFrames."
      ]
    },
    {
      "cell_type": "code",
      "execution_count": null,
      "metadata": {},
      "outputs": [],
      "source": [
        "import pandas as pd\n",
        "customers = pd.read_csv('data/customers.csv')\n",
        "orders = pd.read_csv('data/orders.csv')\n",
        "products = pd.read_csv('data/products.csv')\n",
        "orders_raw = orders.copy()\n",
        "products.head()"
      ]
    },
    {
      "cell_type": "markdown",
      "metadata": {},
      "source": [
        "## Column and Row Selection\n",
        "Use indexing, `.loc`, `.iloc`, and boolean masks to select data."
      ]
    },
    {
      "cell_type": "code",
      "execution_count": null,
      "metadata": {},
      "outputs": [],
      "source": [
        "# Select columns\n",
        "name_city = customers[['name','city']]\n",
        "# Boolean filter and reset_index\n",
        "houston_customers = customers[customers['city']== 'Houston'].reset_index(drop=True)\n",
        "# Position-based row slice\n",
        "first_three = orders.iloc[:3]\n",
        "first_three"
      ]
    },
    {
      "cell_type": "markdown",
      "metadata": {},
      "source": [
        "## Add/Transform Columns and Apply\n",
        "Create new columns and apply functions column-wise and row-wise."
      ]
    },
    {
      "cell_type": "code",
      "execution_count": null,
      "metadata": {},
      "outputs": [],
      "source": [
        "# Column-wise with vectorized operations\n",
        "products['price_eur'] = products['price'] * 0.92\n",
        "# Row-wise apply to compute total price per order\n",
        "orders = orders.merge(products[['product_id','price','category']], on='product_id', how='left')\n",
        "orders['total_price'] = orders.apply(lambda r: r['quantity'] * r['price'], axis=1)\n",
        "orders.head()"
      ]
    },
    {
      "cell_type": "markdown",
      "metadata": {},
      "source": [
        "## Renaming and GroupBy\n",
        "Rename columns and aggregate data, including custom percentiles."
      ]
    },
    {
      "cell_type": "code",
      "execution_count": null,
      "metadata": {},
      "outputs": [],
      "source": [
        "orders_renamed = orders.rename(columns={'quantity':'qty'})\n",
        "price_pct = products.groupby('category')['price'].agg(mean='mean', median='median', pct90=lambda x: x.quantile(0.9))\n",
        "price_pct"
      ]
    },
    {
      "cell_type": "markdown",
      "metadata": {},
      "source": [
        "## Multi-key GroupBy and Pivot Tables\n",
        "Group by multiple keys and reshape data with pivot tables."
      ]
    },
    {
      "cell_type": "code",
      "execution_count": null,
      "metadata": {},
      "outputs": [],
      "source": [
        "multi = orders.groupby(['customer_id','product_id'])['quantity'].sum()\n",
        "pivot = orders.pivot_table(values='quantity', index='customer_id', columns='product_id', fill_value=0)\n",
        "pivot.iloc[:5, :5]"
      ]
    },
    {
      "cell_type": "markdown",
      "metadata": {},
      "source": [
        "## Merging and Concatenation\n",
        "Combine DataFrames using various join strategies and concatenation."
      ]
    },
    {
      "cell_type": "code",
      "execution_count": null,
      "metadata": {},
      "outputs": [],
      "source": [
        "inner = pd.merge(customers, orders_raw, on='customer_id', how='inner')\n",
        "left = pd.merge(customers, orders_raw, on='customer_id', how='left')\n",
        "right = pd.merge(customers, orders_raw, on='customer_id', how='right')\n",
        "outer = pd.merge(customers, orders_raw, on='customer_id', how='outer')\n",
        "prod_renamed = products.rename(columns={'product_id':'id'})\n",
        "custom_merge = pd.merge(orders_raw, prod_renamed, left_on='product_id', right_on='id', how='inner', suffixes=('_order','_prod'))\n",
        "concat_orders = pd.concat([orders_raw.head(2), orders_raw.tail(2)], ignore_index=True)\n",
        "concat_orders"
      ]
    },
    {
      "cell_type": "markdown",
      "metadata": {},
      "source": [
        "## Variable Types and Dtypes\n",
        "Inspect and convert dtypes; treat numeric vs categorical data."
      ]
    },
    {
      "cell_type": "code",
      "execution_count": null,
      "metadata": {},
      "outputs": [],
      "source": [
        "orders['order_id'] = orders['order_id'].astype('int64')\n",
        "products['category'] = products['category'].astype('category')\n",
        "orders.dtypes"
      ]
    },
    {
      "cell_type": "markdown",
      "metadata": {},
      "source": [
        "## Ordered Categoricals and One-Hot Encoding\n",
        "Create ordered categoricals and dummy variables."
      ]
    },
    {
      "cell_type": "code",
      "execution_count": null,
      "metadata": {},
      "outputs": [],
      "source": [
        "products['category'] = pd.Categorical(products['category'], categories=['A','B','C','D'], ordered=True)\n",
        "category_dummies = pd.get_dummies(products['category'])\n",
        "category_dummies.head()"
      ]
    },
    {
      "cell_type": "markdown",
      "metadata": {},
      "source": [
        "## Replace Usage\n",
        "Standardize values with `replace`."
      ]
    },
    {
      "cell_type": "code",
      "execution_count": null,
      "metadata": {},
      "outputs": [],
      "source": [
        "customers['city'] = customers['city'].replace({'New York':'NY','Los Angeles':'LA'})\n",
        "customers.head()"
      ]
    },
    {
      "cell_type": "markdown",
      "metadata": {},
      "source": [
        "## Data Summaries and Visualizations\n",
        "Compute summary statistics and visualize distributions."
      ]
    },
    {
      "cell_type": "code",
      "execution_count": null,
      "metadata": {},
      "outputs": [],
      "source": [
        "import matplotlib.pyplot as plt\n",
        "orders['quantity'].describe()\n",
        "plt.boxplot(orders['quantity'])\n",
        "plt.show()\n",
        "plt.hist(products['price'], bins=20)\n",
        "plt.show()\n",
        "products['category'].value_counts().plot(kind='bar')\n",
        "plt.show()\n",
        "products['category'].value_counts().plot(kind='pie')\n",
        "plt.show()"
      ]
    },
    {
      "cell_type": "markdown",
      "metadata": {},
      "source": [
        "## Value Counts and Proportions\n",
        "Compute counts and proportions of categorical variables."
      ]
    },
    {
      "cell_type": "code",
      "execution_count": null,
      "metadata": {},
      "outputs": [],
      "source": [
        "city_props = customers['city'].value_counts(normalize=True)\n",
        "city_props"
      ]
    },
    {
      "cell_type": "markdown",
      "metadata": {},
      "source": [
        "## Associations\n",
        "Explore relationships between variables."
      ]
    },
    {
      "cell_type": "code",
      "execution_count": null,
      "metadata": {},
      "outputs": [],
      "source": [
        "# Quantitative vs Categorical\n",
        "products.boxplot(column='price', by='category')\n",
        "plt.show()\n",
        "products[products['category']=='A']['price'].plot(kind='hist', density=True, alpha=0.5)\n",
        "products[products['category']=='B']['price'].plot(kind='hist', density=True, alpha=0.5)\n",
        "plt.show()\n",
        "# Quantitative vs Quantitative\n",
        "plt.scatter(orders['quantity'], orders['total_price'])\n",
        "plt.xlabel('Quantity'); plt.ylabel('Total Price')\n",
        "plt.show()\n",
        "orders[['quantity','total_price']].cov()\n",
        "from scipy import stats\n",
        "pearson_r, p_val = stats.pearsonr(orders['quantity'], orders['total_price'])\n",
        "# Categorical vs Categorical\n",
        "cust_orders = pd.merge(customers, orders, on='customer_id', how='inner')\n",
        "cont = pd.crosstab(cust_orders['city'], cust_orders['category'])\n",
        "chi2, p, dof, exp = stats.chi2_contingency(cont)\n",
        "cont"
      ]
    },
    {
      "cell_type": "markdown",
      "metadata": {},
      "source": [
        "## Reusable EDA Helpers\n",
        "Helper functions for quick summaries."
      ]
    },
    {
      "cell_type": "code",
      "execution_count": null,
      "metadata": {},
      "outputs": [],
      "source": [
        "def value_props(s):\n",
        "    counts = s.value_counts()\n",
        "    return pd.DataFrame({'freq': counts, 'prop': counts/len(s)})\n",
        "\n",
        "def quick_corr(df):\n",
        "    return df.corr(method='pearson')\n",
        "\n",
        "value_props(customers['city']).head()\n",
        "quick_corr(orders[['quantity','total_price']])"
      ]
    }
  ],
  "metadata": {
    "kernelspec": {
      "display_name": "Python 3",
      "language": "python",
      "name": "python3"
    },
    "language_info": {
      "name": "python",
      "version": "3.10"
    }
  },
  "nbformat": 4,
  "nbformat_minor": 5
}