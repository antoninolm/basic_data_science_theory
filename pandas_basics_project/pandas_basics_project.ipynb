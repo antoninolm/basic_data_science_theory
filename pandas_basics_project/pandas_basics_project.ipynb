{
  "cells": [
    {
      "cell_type": "markdown",
      "metadata": {},
      "source": [
        "# Pandas Basics Portfolio\nThis notebook explores core pandas functionality with theoretical notes and practical code examples."
      ]
    },
    {
      "cell_type": "markdown",
      "metadata": {},
      "source": [
        "## DataFrame Creation and CSV I/O\nLoad the portfolio CSVs into pandas DataFrames."
      ]
    },
    {
      "cell_type": "code",
      "execution_count": null,
      "metadata": {},
      "outputs": [],
      "source": [
        "import pandas as pd\ncustomers = pd.read_csv('data/customers.csv')\norders = pd.read_csv('data/orders.csv')\nproducts = pd.read_csv('data/products.csv')\norders_raw = orders.copy()\nproducts.head()"
      ]
    },
    {
      "cell_type": "markdown",
      "metadata": {},
      "source": [
        "## Column and Row Selection\nUse indexing, `.loc`, `.iloc`, and boolean masks to select data."
      ]
    },
    {
      "cell_type": "code",
      "execution_count": null,
      "metadata": {},
      "outputs": [],
      "source": [
        "# Select columns\nname_city = customers[['name','city']]\n# Boolean filter and reset_index\nhouston_customers = customers[customers['city']== 'Houston'].reset_index(drop=True)\n# Position-based row slice\nfirst_three = orders.iloc[:3]\nfirst_three"
      ]
    },
    {
      "cell_type": "markdown",
      "metadata": {},
      "source": [
        "## Add/Transform Columns and Apply\nCreate new columns and apply functions column-wise and row-wise."
      ]
    },
    {
      "cell_type": "code",
      "execution_count": null,
      "metadata": {},
      "outputs": [],
      "source": [
        "# Column-wise with vectorized operations\nproducts['price_eur'] = products['price'] * 0.92\n# Row-wise apply to compute total price per order\norders = orders.merge(products[['product_id','price','category']], on='product_id', how='left')\norders['total_price'] = orders.apply(lambda r: r['quantity'] * r['price'], axis=1)\norders.head()"
      ]
    },
    {
      "cell_type": "markdown",
      "metadata": {},
      "source": [
        "## Renaming and GroupBy\nRename columns and aggregate data, including custom percentiles."
      ]
    },
    {
      "cell_type": "code",
      "execution_count": null,
      "metadata": {},
      "outputs": [],
      "source": [
        "orders_renamed = orders.rename(columns={'quantity':'qty'})\nprice_pct = products.groupby('category')['price'].agg(mean='mean', median='median', pct90=lambda x: x.quantile(0.9))\nprice_pct"
      ]
    },
    {
      "cell_type": "markdown",
      "metadata": {},
      "source": [
        "## Multi-key GroupBy and Pivot Tables\nGroup by multiple keys and reshape data with pivot tables."
      ]
    },
    {
      "cell_type": "code",
      "execution_count": null,
      "metadata": {},
      "outputs": [],
      "source": [
        "multi = orders.groupby(['customer_id','product_id'])['quantity'].sum()\npivot = orders.pivot_table(values='quantity', index='customer_id', columns='product_id', fill_value=0)\npivot.iloc[:5, :5]"
      ]
    },
    {
      "cell_type": "markdown",
      "metadata": {},
      "source": [
        "## Merging and Concatenation\nCombine DataFrames using various join strategies and concatenation."
      ]
    },
    {
      "cell_type": "code",
      "execution_count": null,
      "metadata": {},
      "outputs": [],
      "source": [
        "inner = pd.merge(customers, orders_raw, on='customer_id', how='inner')\nleft = pd.merge(customers, orders_raw, on='customer_id', how='left')\nright = pd.merge(customers, orders_raw, on='customer_id', how='right')\nouter = pd.merge(customers, orders_raw, on='customer_id', how='outer')\nprod_renamed = products.rename(columns={'product_id':'id'})\ncustom_merge = pd.merge(orders_raw, prod_renamed, left_on='product_id', right_on='id', how='inner', suffixes=('_order','_prod'))\nconcat_orders = pd.concat([orders_raw.head(2), orders_raw.tail(2)], ignore_index=True)\nconcat_orders"
      ]
    },
    {
      "cell_type": "markdown",
      "metadata": {},
      "source": [
        "## Variable Types and Dtypes\nInspect and convert dtypes; treat numeric vs categorical data."
      ]
    },
    {
      "cell_type": "code",
      "execution_count": null,
      "metadata": {},
      "outputs": [],
      "source": [
        "orders['order_id'] = orders['order_id'].astype('int64')\nproducts['category'] = products['category'].astype('category')\norders.dtypes"
      ]
    },
    {
      "cell_type": "markdown",
      "metadata": {},
      "source": [
        "## Ordered Categoricals and One-Hot Encoding\nCreate ordered categoricals and dummy variables."
      ]
    },
    {
      "cell_type": "code",
      "execution_count": null,
      "metadata": {},
      "outputs": [],
      "source": [
        "products['category'] = pd.Categorical(products['category'], categories=['A','B','C','D'], ordered=True)\ncategory_dummies = pd.get_dummies(products['category'])\ncategory_dummies.head()"
      ]
    },
    {
      "cell_type": "markdown",
      "metadata": {},
      "source": [
        "## Replace Usage\nStandardize values with `replace`."
      ]
    },
    {
      "cell_type": "code",
      "execution_count": null,
      "metadata": {},
      "outputs": [],
      "source": [
        "customers['city'] = customers['city'].replace({'New York':'NY','Los Angeles':'LA'})\ncustomers.head()"
      ]
    },
    {
      "cell_type": "markdown",
      "metadata": {},
      "source": [
        "## Data Summaries and Visualizations\nCompute summary statistics and visualize distributions."
      ]
    },
    {
      "cell_type": "code",
      "execution_count": null,
      "metadata": {},
      "outputs": [],
      "source": [
        "import matplotlib.pyplot as plt\norders['quantity'].describe()\nplt.boxplot(orders['quantity'])\nplt.show()\nplt.hist(products['price'], bins=20)\nplt.show()\nproducts['category'].value_counts().plot(kind='bar')\nplt.show()\nproducts['category'].value_counts().plot(kind='pie')\nplt.show()"
      ]
    },
    {
      "cell_type": "markdown",
      "metadata": {},
      "source": [
        "## Value Counts and Proportions\nCompute counts and proportions of categorical variables."
      ]
    },
    {
      "cell_type": "code",
      "execution_count": null,
      "metadata": {},
      "outputs": [],
      "source": [
        "city_props = customers['city'].value_counts(normalize=True)\ncity_props"
      ]
    },
    {
      "cell_type": "markdown",
      "metadata": {},
      "source": [
        "## Associations\nExplore relationships between variables."
      ]
    },
    {
      "cell_type": "code",
      "execution_count": null,
      "metadata": {},
      "outputs": [],
      "source": [
        "# Quantitative vs Categorical\nproducts.boxplot(column='price', by='category')\nplt.show()\nproducts[products['category']=='A']['price'].plot(kind='hist', density=True, alpha=0.5)\nproducts[products['category']=='B']['price'].plot(kind='hist', density=True, alpha=0.5)\nplt.show()\n# Quantitative vs Quantitative\nplt.scatter(orders['quantity'], orders['total_price'])\nplt.xlabel('Quantity'); plt.ylabel('Total Price')\nplt.show()\norders[['quantity','total_price']].cov()\nfrom scipy import stats\npearson_r, p_val = stats.pearsonr(orders['quantity'], orders['total_price'])\n# Categorical vs Categorical\ncust_orders = pd.merge(customers, orders, on='customer_id', how='inner')\ncont = pd.crosstab(cust_orders['city'], cust_orders['category'])\nchi2, p, dof, exp = stats.chi2_contingency(cont)\ncont"
      ]
    },
    {
      "cell_type": "markdown",
      "metadata": {},
      "source": [
        "## Reusable EDA Helpers\nHelper functions for quick summaries."
      ]
    },
    {
      "cell_type": "code",
      "execution_count": null,
      "metadata": {},
      "outputs": [],
      "source": [
        "def value_props(s):\n    counts = s.value_counts()\n    return pd.DataFrame({'freq': counts, 'prop': counts/len(s)})\n\ndef quick_corr(df):\n    return df.corr(method='pearson')\n\nvalue_props(customers['city']).head()\nquick_corr(orders[['quantity','total_price']])"
      ]
    }
  ],
  "metadata": {
    "kernelspec": {
      "display_name": "Python 3",
      "language": "python",
      "name": "python3"
    },
    "language_info": {
      "name": "python",
      "version": "3.10"
    }
  },
  "nbformat": 4,
  "nbformat_minor": 5
}