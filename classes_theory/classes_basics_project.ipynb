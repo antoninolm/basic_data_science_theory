{
 "cells": [
  {
   "cell_type": "markdown",
   "id": "41130e87",
   "metadata": {},
   "source": [
    "<div style=\"text-align: center; font-size: 24px; font-weight: bold;\">\n",
    "  Basics on Classes and Modules\n",
    "</div>\n",
    "\n",
    "This notebook introduces the fundamental concepts of **Python classes** and **modules**.  \n",
    "It explains how to define classes, create objects, and organize code into reusable modules.  \n",
    "Examples are provided to show practical usage and best practices.\n"
   ]
  },
  {
   "cell_type": "markdown",
   "id": "b7a0f1ec",
   "metadata": {},
   "source": [
    "# Introduction to Classes\n",
    "Classes in Python are not just a technical construct; they represent a way of thinking about programs. Instead of dealing with scattered pieces of data and functions, classes bring both together into a unified structure. They allow us to model the world in a more human-like way: we don’t just think of numbers and strings, but of students, employees, or circles, each with their own identity and behavior.\n",
    "\n",
    "A class is essentially a blueprint. On its own, it does nothing—it simply describes what an object should look like and how it should behave. When we instantiate a class, we create an object, a living instance that holds actual data. This distinction is important: the class defines possibilities, while the object represents reality.\n",
    "\n",
    "There are two main kinds of variables in this system. Class variables are shared across all objects. For example, every grade at a school might share the same definition of what “passing” means. Instance variables, on the other hand, belong only to individual objects. Roger and Sandro may both be students, but their names, years, and grades differ.\n",
    "\n",
    "Behavior in classes is expressed through methods. These are functions tied to objects, always starting with the invisible companion, self. This little keyword represents the object itself, ensuring that methods act on the right data. A circle doesn’t just store its radius—it knows how to calculate its own area and circumference.\n",
    "\n",
    "The constructor—the __init__ method—gives shape to new objects at the very moment they are created. It decides what data must be supplied and ensures that every object begins its life in a consistent state.\n",
    "\n",
    "Beyond that, Python provides special methods like __repr__ to define how objects present themselves. Instead of cryptic memory addresses, we can ask objects to speak in human terms: a circle can tell us its radius, a student can reveal their name.\n",
    "\n",
    "Finally, an important realization: everything in Python is an object. Numbers, strings, lists, even functions—all are instances of classes. This uniformity is what makes Python powerful. It means we can treat built-in types and our own classes in the same way, exploring their attributes and extending their capabilities.\n",
    "\n",
    "In short, classes shift programming from manipulating raw data to shaping entities that carry both data and meaning. They encourage us to think less about operations in isolation, and more about the relationships between things—an approach that mirrors how we understand the real world."
   ]
  },
  {
   "cell_type": "markdown",
   "id": "ad94daaf",
   "metadata": {},
   "source": [
    "## Variable Types\n",
    "\n",
    "In Python, data is organized into different **types**, such as `int`, `float`, `list`, and `dict`. Each type defines what kind of data it can hold and what operations can be performed on it.\n",
    "\n",
    "You can check the type of a variable with the built-in `type()` function. For example, `\"Cool String\"` is of type `str` and `12` is of type `int`.\n",
    "\n",
    "The type of a variable dictates what operations are valid:\n",
    "\n",
    "* You cannot use `.get()` on an integer because that method only exists for dictionaries.\n",
    "* You cannot add two dictionaries together with `+`, since addition is not defined for that type.\n",
    "\n",
    "In short, **types determine the behavior and capabilities of values in Python**.\n"
   ]
  },
  {
   "cell_type": "code",
   "execution_count": 3,
   "id": "095b99a8",
   "metadata": {},
   "outputs": [
    {
     "name": "stdout",
     "output_type": "stream",
     "text": [
      "<class 'int'>\n",
      "<class 'dict'>\n",
      "<class 'list'>\n"
     ]
    }
   ],
   "source": [
    "# ======================\n",
    "# Instruction: Call type() on the integer 5 and print the results.\n",
    "# ======================\n",
    "print(type(5))  # <class 'int'>\n",
    "\n",
    "# ======================\n",
    "# Instruction: Define a dictionary my_dict using curly braces {}.\n",
    "# ======================\n",
    "my_dict = {}\n",
    "\n",
    "# ======================\n",
    "# Instruction: Print out the type() of my_dict.\n",
    "# ======================\n",
    "print(type(my_dict))  # <class 'dict'>\n",
    "\n",
    "# ======================\n",
    "# Instruction: Define a list called my_list.\n",
    "# ======================\n",
    "my_list = []\n",
    "\n",
    "# ======================\n",
    "# Instruction: Print out the type() of my_list.\n",
    "# ======================\n",
    "print(type(my_list))  # <class 'list'>\n"
   ]
  },
  {
   "cell_type": "markdown",
   "id": "61653883",
   "metadata": {},
   "source": [
    "## Class\n",
    "\n",
    "In Python, a **class** is a template for creating a new data type. It defines what kind of information the class will contain and how a programmer can interact with that data.\n",
    "\n",
    "* Classes are defined using the `class` keyword.\n",
    "* By convention (PEP 8), class names should be **capitalized** to make them easy to recognize.\n",
    "\n",
    "Example:\n",
    "\n",
    "```python\n",
    "class CoolClass:\n",
    "    pass\n",
    "```\n",
    "\n",
    "Here, `CoolClass` is defined but contains no attributes or methods. The `pass` statement is used to leave the body of the class empty without causing an `IndentationError`.\n",
    "\n",
    "Classes serve as the foundation for object-oriented programming in Python, and later we can add variables (attributes) and functions (methods) inside them.\n"
   ]
  },
  {
   "cell_type": "code",
   "execution_count": 4,
   "id": "497007ce",
   "metadata": {},
   "outputs": [],
   "source": [
    "# ======================\n",
    "# Instruction: Define an empty class called Facade.\n",
    "# ======================\n",
    "\n",
    "class Facade:\n",
    "    pass\n"
   ]
  },
  {
   "cell_type": "markdown",
   "id": "ff313171",
   "metadata": {},
   "source": [
    "## Introduction to Classes – Instantiation\n",
    "\n",
    "Defining a class alone does not create usable objects. To work with a class, it must be instantiated, meaning we create an instance of the class.\n",
    "\n",
    "Instantiation is done by writing the class name followed by parentheses, similar to calling a function:\n",
    "\n",
    "cool_instance = CoolClass()\n",
    "\n",
    "\n",
    "Here, cool_instance is an object of type CoolClass. Storing the instance in a variable allows us to reference and interact with it later.\n",
    "\n",
    "In short:\n",
    "\n",
    "Class = blueprint or template\n",
    "\n",
    "Instance = actual object created from that class"
   ]
  },
  {
   "cell_type": "code",
   "execution_count": 5,
   "id": "42b53076",
   "metadata": {},
   "outputs": [],
   "source": [
    "# ======================\n",
    "# Instruction: Make a Facade instance and save it to the variable facade_1.\n",
    "# ======================\n",
    "\n",
    "facade_1 = Facade()\n"
   ]
  },
  {
   "cell_type": "markdown",
   "id": "b4aa23d7",
   "metadata": {},
   "source": [
    "## Introduction to Classes – Object-Oriented Programming\n",
    "\n",
    "An **instance of a class** is also called an **object**. The practice of defining classes and creating objects to structure programs is known as **Object-Oriented Programming (OOP)**.\n",
    "\n",
    "* **Instantiation**: transforms a class into an object.\n",
    "* **type()**: does the reverse—it tells you the class from which an object was created.\n",
    "\n",
    "Example:\n",
    "\n",
    "```python\n",
    "print(type(cool_instance))\n",
    "# <class '__main__.CoolClass'>\n",
    "```\n",
    "\n",
    "Here, `cool_instance` is recognized as an object of type `CoolClass`.\n",
    "The prefix `__main__` indicates that the class was defined in the current script being executed.\n",
    "\n",
    "In summary:\n",
    "\n",
    "* **Class** = blueprint\n",
    "* **Object** = instance of the class\n",
    "* **OOP** = paradigm where programs are built around classes and objects\n"
   ]
  },
  {
   "cell_type": "code",
   "execution_count": 6,
   "id": "2cf19c76",
   "metadata": {},
   "outputs": [
    {
     "name": "stdout",
     "output_type": "stream",
     "text": [
      "<class '__main__.Facade'>\n"
     ]
    }
   ],
   "source": [
    "# ======================\n",
    "# Instruction: Call type() on facade_1 and save it to the variable facade_1_type.\n",
    "# ======================\n",
    "facade_1_type = type(facade_1)\n",
    "\n",
    "# ======================\n",
    "# Instruction: Print out facade_1_type.\n",
    "# ======================\n",
    "print(facade_1_type)\n"
   ]
  },
  {
   "cell_type": "markdown",
   "id": "cec74fe7",
   "metadata": {},
   "source": [
    "## Introduction to Classes – Class Variables\n",
    "\n",
    "A **class variable** is a variable that is shared across all instances of a class. It is defined inside the class body but outside of any methods.\n",
    "\n",
    "* Every object created from the class will have access to the same class variable.\n",
    "* Class variables are accessed with **dot notation** (`object.variable`).\n",
    "\n",
    "Example:\n",
    "\n",
    "```python\n",
    "class Musician:\n",
    "    title = \"Rockstar\"\n",
    "\n",
    "drummer = Musician()\n",
    "print(drummer.title)  \n",
    "# Output: Rockstar\n",
    "```\n",
    "\n",
    "Here, `title` is a class variable. Any instance of `Musician` will have the same `title` value:\n",
    "\n",
    "```python\n",
    "guitarist = Musician()\n",
    "print(guitarist.title)  \n",
    "# Output: Rockstar\n",
    "```\n",
    "\n",
    "In summary:\n",
    "\n",
    "* **Instance variables** are unique to each object.\n",
    "* **Class variables** are shared by all objects of the class.\n",
    "* Dot notation (e.g., `drummer.title`) is used to access them.\n"
   ]
  },
  {
   "cell_type": "code",
   "execution_count": 7,
   "id": "8a311766",
   "metadata": {},
   "outputs": [],
   "source": [
    "# ======================\n",
    "# Instruction: Create a Grade class with a class attribute .minimum_passing equal to 65.\n",
    "# ======================\n",
    "\n",
    "class Grade:\n",
    "    minimum_passing = 65\n"
   ]
  },
  {
   "cell_type": "markdown",
   "id": "c040eed1",
   "metadata": {},
   "source": [
    "## Introduction to Classes – Methods\n",
    "\n",
    "**Methods** are functions defined inside a class. They describe the behavior of the objects created from that class.\n",
    "\n",
    "* The first parameter of any method must refer to the object itself. By convention, this parameter is called `self`.\n",
    "* When a method is called on an object, Python automatically passes the object as the first argument (`self`).\n",
    "\n",
    "Example:\n",
    "\n",
    "```python\n",
    "class Dog:\n",
    "    dog_time_dilation = 7\n",
    "\n",
    "    def time_explanation(self):\n",
    "        print(\"Dogs experience {} years for every 1 human year.\".format(self.dog_time_dilation))\n",
    "\n",
    "pipi_pitbull = Dog()\n",
    "pipi_pitbull.time_explanation()\n",
    "# Output: Dogs experience 7 years for every 1 human year.\n",
    "```\n",
    "\n",
    "Key points:\n",
    "\n",
    "* `self` allows each object to access its own data and attributes.\n",
    "* You don’t explicitly pass the object when calling the method—Python does it automatically.\n",
    "* Methods enable objects to **do things** in addition to **holding data**.\n"
   ]
  },
  {
   "cell_type": "code",
   "execution_count": 8,
   "id": "c32a1c27",
   "metadata": {},
   "outputs": [],
   "source": [
    "# ======================\n",
    "# Instruction: Create a Rules class with a body. Use pass temporarily so the class can run.\n",
    "# ======================\n",
    "\n",
    "class Rules:\n",
    "    pass\n",
    "\n",
    "# ======================\n",
    "# Instruction: Add a method .washing_brushes() that returns a specific string.\n",
    "#   - Remove the 'pass' since the class now has a body.\n",
    "#   - Remember to include self as the parameter.\n",
    "# ======================\n",
    "\n",
    "class Rules:\n",
    "    def washing_brushes(self):\n",
    "        return \"Point bristles towards the basin while washing your brushes.\"\n"
   ]
  },
  {
   "cell_type": "markdown",
   "id": "e6857f2c",
   "metadata": {},
   "source": [
    "## Introduction to Classes – Methods with Arguments\n",
    "\n",
    "Methods can accept additional arguments beyond `self`. These arguments let you pass data into the method so the object can perform operations.\n",
    "\n",
    "Example:\n",
    "\n",
    "```python\n",
    "class DistanceConverter:\n",
    "    kms_in_a_mile = 1.609\n",
    "    \n",
    "    def how_many_kms(self, miles):\n",
    "        return miles * self.kms_in_a_mile\n",
    "\n",
    "converter = DistanceConverter()\n",
    "kms_in_5_miles = converter.how_many_kms(5)\n",
    "print(kms_in_5_miles)\n",
    "# Output: 8.045\n",
    "```\n",
    "\n",
    "Explanation:\n",
    "\n",
    "* `self` is passed automatically when calling a method, so you only provide the additional arguments explicitly (in this case, `miles`).\n",
    "* Inside the method, `self` allows access to class variables like `kms_in_a_mile`.\n",
    "* Calling `converter.how_many_kms(5)` returns `8.045`, the conversion of 5 miles into kilometers.\n",
    "\n",
    "In summary:\n",
    "\n",
    "* Methods can take parameters just like functions.\n",
    "* `self` is always the first parameter but does not need to be explicitly passed when calling the method.\n"
   ]
  },
  {
   "cell_type": "code",
   "execution_count": 9,
   "id": "30ee872d",
   "metadata": {},
   "outputs": [],
   "source": [
    "# ======================\n",
    "# Instruction: Create a Circle class with class variable .pi set to 3.14.\n",
    "# ======================\n",
    "class Circle:\n",
    "    pi = 3.14\n",
    "\n",
    "    # ======================\n",
    "    # Instruction: Add an .area() method that takes self and radius.\n",
    "    #   - Return area = pi * radius ** 2\n",
    "    # ======================\n",
    "    def area(self, radius):\n",
    "        area = self.pi * radius ** 2\n",
    "        return area\n",
    "\n",
    "\n",
    "# ======================\n",
    "# Instruction: Create an instance of Circle and save it in variable circle.\n",
    "# ======================\n",
    "circle = Circle()\n",
    "\n",
    "# ======================\n",
    "# Instruction: Calculate the areas of:\n",
    "#   - A medium pizza (diameter = 12 inches → radius = 12/2)\n",
    "#   - Teaching table (diameter = 36 inches → radius = 36/2)\n",
    "#   - Round Room auditorium (diameter = 11,460 inches → radius = 11460/2)\n",
    "# ======================\n",
    "pizza_area = circle.area(12 / 2)\n",
    "teaching_table_area = circle.area(36 / 2)\n",
    "round_room_area = circle.area(11460 / 2)\n"
   ]
  },
  {
   "cell_type": "markdown",
   "id": "b2b0e3a1",
   "metadata": {},
   "source": [
    "## Introduction to Classes – Constructors\n",
    "\n",
    "In Python, certain methods have **special behavior** and are called **dunder methods** (short for *double underscore*). One of the most important is `__init__()`.\n",
    "\n",
    "* `__init__()` is automatically called when a new object is created from a class.\n",
    "* It is used to **initialize** the object with any data it needs when instantiated.\n",
    "* Methods that set up an object during creation are called **constructors**.\n",
    "\n",
    "Example 1 – simple constructor:\n",
    "\n",
    "```python\n",
    "class Shouter:\n",
    "    def __init__(self):\n",
    "        print(\"HELLO?!\")\n",
    "\n",
    "shout1 = Shouter()  \n",
    "# Output: HELLO?!\n",
    "```\n",
    "\n",
    "Here, every time a `Shouter` object is created, the constructor prints `\"HELLO?!\"`.\n",
    "\n",
    "Example 2 – constructor with arguments:\n",
    "\n",
    "```python\n",
    "class Shouter:\n",
    "    def __init__(self, phrase):\n",
    "        # Ensure phrase is a string\n",
    "        if type(phrase) == str:\n",
    "            # Print it in uppercase\n",
    "            print(phrase.upper())\n",
    "\n",
    "shout1 = Shouter(\"shout\")  \n",
    "# Output: SHOUT\n",
    "\n",
    "shout2 = Shouter(\"let it all out\")  \n",
    "# Output: LET IT ALL OUT\n",
    "```\n",
    "\n",
    "Key takeaways:\n",
    "\n",
    "* `__init__()` prepares a new object with its starting state.\n",
    "* You can pass arguments to the constructor, and they will be received by the `__init__()` method.\n",
    "* Constructors allow objects to be created with meaningful initial values, making them immediately useful.\n"
   ]
  },
  {
   "cell_type": "code",
   "execution_count": 10,
   "id": "2352c954",
   "metadata": {},
   "outputs": [
    {
     "name": "stdout",
     "output_type": "stream",
     "text": [
      "New circle with diameter: 36\n"
     ]
    }
   ],
   "source": [
    "# ======================\n",
    "# Instruction: Add a constructor (__init__) to Circle that takes diameter.\n",
    "#   - At first, let it only contain 'pass'.\n",
    "# ======================\n",
    "class Circle:\n",
    "    pi = 3.14\n",
    "\n",
    "    def __init__(self, diameter):\n",
    "        pass\n",
    "\n",
    "\n",
    "# ======================\n",
    "# Instruction: Update the constructor to print a message\n",
    "#   \"New circle with diameter: {diameter}\" when a new Circle is created.\n",
    "#   - Create an instance teaching_table with diameter 36.\n",
    "# ======================\n",
    "class Circle:\n",
    "    pi = 3.14\n",
    "\n",
    "    def __init__(self, diameter):\n",
    "        print(\"New circle with diameter:\", str(diameter))\n",
    "\n",
    "\n",
    "teaching_table = Circle(36)\n"
   ]
  },
  {
   "cell_type": "markdown",
   "id": "744c3daf",
   "metadata": {},
   "source": [
    "## Introduction to Classes – Instance Variables\n",
    "\n",
    "* **Instance variables** are data stored inside individual objects.\n",
    "* Unlike class variables, they are **unique to each instance** and not shared across all objects of a class.\n",
    "* They are created and accessed using dot notation (`object.variable`).\n",
    "\n",
    "Example:\n",
    "\n",
    "```python\n",
    "class FakeDict:\n",
    "    pass\n",
    "\n",
    "fake_dict1 = FakeDict()\n",
    "fake_dict2 = FakeDict()\n",
    "\n",
    "fake_dict1.fake_key = \"This works!\"\n",
    "fake_dict2.fake_key = \"This too!\"\n",
    "\n",
    "print(fake_dict1.fake_key, fake_dict2.fake_key)\n",
    "# Output: This works! This too!\n",
    "```\n",
    "\n",
    "Key idea:\n",
    "Each object can hold its **own data**, making instances independent even though they come from the same class.\n"
   ]
  },
  {
   "cell_type": "code",
   "execution_count": 11,
   "id": "707dceb0",
   "metadata": {},
   "outputs": [
    {
     "name": "stdout",
     "output_type": "stream",
     "text": [
      "<__main__.Store object at 0x7f22286a2080>\n",
      "Alternative Rocks\n",
      "<__main__.Store object at 0x7f22286a21a0>\n",
      "Isabelle's Ices\n"
     ]
    }
   ],
   "source": [
    "# ======================\n",
    "# Instruction: Create two objects from the Store class named alternative_rocks and isabelles_ices.\n",
    "# ======================\n",
    "class Store:\n",
    "    pass\n",
    "\n",
    "alternative_rocks = Store()\n",
    "isabelles_ices = Store()\n",
    "\n",
    "# ======================\n",
    "# Instruction: Give both objects an instance attribute .store_name.\n",
    "#   - Set alternative_rocks.store_name = \"Alternative Rocks\"\n",
    "#   - Set isabelles_ices.store_name = \"Isabelle's Ices\"\n",
    "# ======================\n",
    "alternative_rocks.store_name = \"Alternative Rocks\"\n",
    "isabelles_ices.store_name = \"Isabelle's Ices\"\n",
    "\n",
    "# ======================\n",
    "# Print the objects and their .store_name values to check.\n",
    "# ======================\n",
    "print(alternative_rocks)\n",
    "print(alternative_rocks.store_name)\n",
    "\n",
    "print(isabelles_ices)\n",
    "print(isabelles_ices.store_name)\n"
   ]
  },
  {
   "cell_type": "markdown",
   "id": "a8cf53e6",
   "metadata": {},
   "source": [
    "## Introduction to Classes – Attribute Functions\n",
    "\n",
    "In Python, both **class variables** and **instance variables** are considered **attributes** of an object.\n",
    "If you try to access an attribute that does not exist, Python raises an `AttributeError`.\n",
    "\n",
    "Example:\n",
    "\n",
    "```python\n",
    "class NoCustomAttributes:\n",
    "    pass\n",
    "\n",
    "attributeless = NoCustomAttributes()\n",
    "\n",
    "try:\n",
    "    attributeless.fake_attribute\n",
    "except AttributeError:\n",
    "    print(\"This text gets printed!\")\n",
    "# Output: This text gets printed!\n",
    "```\n",
    "\n",
    "To avoid errors when we are not sure whether an attribute exists, Python provides two built-in functions:\n",
    "\n",
    "* **`hasattr(object, \"attribute\")`**\n",
    "\n",
    "  * Returns `True` if the attribute exists, otherwise `False`.\n",
    "\n",
    "* **`getattr(object, \"attribute\", default)`**\n",
    "\n",
    "  * Returns the value of the attribute if it exists.\n",
    "  * If not, it returns the `default` value (if provided), instead of raising an error.\n",
    "\n",
    "Example:\n",
    "\n",
    "```python\n",
    "hasattr(attributeless, \"fake_attribute\")\n",
    "# False\n",
    "\n",
    "getattr(attributeless, \"other_fake_attribute\", 800)\n",
    "# 800\n",
    "```\n",
    "\n",
    "Key points:\n",
    "\n",
    "* Attributes can be **checked** safely with `hasattr()`.\n",
    "* Attributes can be **retrieved** safely with `getattr()`, using a fallback default if needed.\n",
    "* These functions help avoid crashes when working with objects whose attributes you don’t fully control.\n"
   ]
  },
  {
   "cell_type": "code",
   "execution_count": 12,
   "id": "9d45fc9d",
   "metadata": {},
   "outputs": [
    {
     "name": "stdout",
     "output_type": "stream",
     "text": [
      "<class 'dict'> does not have the count attribute :(\n",
      "<class 'str'> has the count attribute!\n",
      "<class 'int'> does not have the count attribute :(\n",
      "<class 'list'> has the count attribute!\n"
     ]
    }
   ],
   "source": [
    "# ======================\n",
    "# Instruction: We have a list of elements (dict, str, int, list).\n",
    "#   - For each element, check if it has the attribute .count using hasattr().\n",
    "#   - If yes, print \"<class '...'> has the count attribute!\"\n",
    "# ======================\n",
    "\n",
    "can_we_count_it = [{'s': False}, \"sassafrass\", 18, [\"a\", \"c\", \"s\", \"d\", \"s\"]]\n",
    "\n",
    "for element in can_we_count_it:\n",
    "    if hasattr(element, \"count\") == True:\n",
    "        print(str(type(element)) + \" has the count attribute!\")\n",
    "    # ======================\n",
    "    # Instruction: Add an else statement for elements without .count attribute.\n",
    "    #   - Print \"<class '...'> does not have the count attribute :(\"\n",
    "    # ======================\n",
    "    else:\n",
    "        print(str(type(element)) + \" does not have the count attribute :(\")\n",
    "\n",
    "# ======================\n",
    "# Expected Output:\n",
    "# <class 'dict'> does not have the count attribute :(\n",
    "# <class 'str'> has the count attribute!\n",
    "# <class 'int'> does not have the count attribute :(\n",
    "# <class 'list'> has the count attribute!\n",
    "# ======================\n"
   ]
  },
  {
   "cell_type": "markdown",
   "id": "e4cc2167",
   "metadata": {},
   "source": [
    "## Self\n",
    "\n",
    "Objects are more useful than dictionaries when we want **structured and consistent data**. This structure comes from using **instance variables**, which are often set in the constructor with arguments.\n",
    "\n",
    "Example – storing URLs:\n",
    "\n",
    "```python\n",
    "class SearchEngineEntry:\n",
    "    def __init__(self, url):\n",
    "        self.url = url\n",
    "\n",
    "codecademy = SearchEngineEntry(\"www.codecademy.com\")\n",
    "wikipedia = SearchEngineEntry(\"www.wikipedia.org\")\n",
    "\n",
    "print(codecademy.url)   # www.codecademy.com\n",
    "print(wikipedia.url)    # www.wikipedia.org\n",
    "```\n",
    "\n",
    "* The constructor (`__init__`) creates an instance variable `self.url` from the argument.\n",
    "* Each object has its own `url`, so the data is independent per instance.\n",
    "\n",
    "We can also write methods that use both class and instance variables:\n",
    "\n",
    "```python\n",
    "class SearchEngineEntry:\n",
    "    secure_prefix = \"https://\"\n",
    "    \n",
    "    def __init__(self, url):\n",
    "        self.url = url\n",
    "\n",
    "    def secure(self):\n",
    "        return \"{prefix}{site}\".format(prefix=self.secure_prefix, site=self.url)\n",
    "\n",
    "codecademy = SearchEngineEntry(\"www.codecademy.com\")\n",
    "wikipedia = SearchEngineEntry(\"www.wikipedia.org\")\n",
    "\n",
    "print(codecademy.secure())   # https://www.codecademy.com\n",
    "print(wikipedia.secure())    # https://www.wikipedia.org\n",
    "```\n",
    "\n",
    "Key points:\n",
    "\n",
    "* `self` always refers to the current **object instance**.\n",
    "* Instance variables (`self.url`) are unique to each object.\n",
    "* Class variables (`self.secure_prefix`) are shared across all objects.\n",
    "* Methods let objects act on their own data, making object-oriented programming powerful and expressive.\n"
   ]
  },
  {
   "cell_type": "code",
   "execution_count": 13,
   "id": "3b9f7db9",
   "metadata": {},
   "outputs": [
    {
     "name": "stdout",
     "output_type": "stream",
     "text": [
      "Creating circle with diameter 12\n",
      "Creating circle with diameter 36\n",
      "Creating circle with diameter 11460\n",
      "37.68\n",
      "113.04\n",
      "35984.4\n"
     ]
    }
   ],
   "source": [
    "# ======================\n",
    "# Instruction: Update Circle's constructor to set self.radius as half the diameter.\n",
    "# ======================\n",
    "class Circle:\n",
    "    pi = 3.14\n",
    "\n",
    "    def __init__(self, diameter):\n",
    "        print(\"Creating circle with diameter {d}\".format(d=diameter))\n",
    "        self.radius = diameter / 2\n",
    "\n",
    "    # ======================\n",
    "    # Instruction: Define a method .circumference() that returns circumference = 2 * pi * radius.\n",
    "    # ======================\n",
    "    def circumference(self):\n",
    "        circumference = 2 * self.pi * self.radius\n",
    "        return circumference\n",
    "\n",
    "\n",
    "# ======================\n",
    "# Instruction: Create three Circle objects with different diameters.\n",
    "#   - medium_pizza (diameter 12)\n",
    "#   - teaching_table (diameter 36)\n",
    "#   - round_room (diameter 11460)\n",
    "# ======================\n",
    "medium_pizza = Circle(12)\n",
    "teaching_table = Circle(36)\n",
    "round_room = Circle(11460)\n",
    "\n",
    "# ======================\n",
    "# Instruction: Print the circumferences of the three circles.\n",
    "# ======================\n",
    "print(medium_pizza.circumference())\n",
    "print(teaching_table.circumference())\n",
    "print(round_room.circumference())\n"
   ]
  },
  {
   "cell_type": "markdown",
   "id": "0ab53b0b",
   "metadata": {},
   "source": [
    "## Everything is an Object\n",
    "\n",
    "In Python, **everything is an object**, including user-defined classes and built-in data types like `int`, `list`, and `dict`. Objects can have attributes added even after instantiation, and Python provides tools to inspect these attributes.\n",
    "\n",
    "* **`dir()`**: shows all attributes (including methods) of an object at runtime.\n",
    "* Many of these are special double-underscore (**dunder**) attributes that Python automatically adds.\n",
    "\n",
    "Example – user-defined object:\n",
    "\n",
    "```python\n",
    "class FakeDict:\n",
    "    pass\n",
    "\n",
    "fake_dict = FakeDict()\n",
    "fake_dict.attribute = \"Cool\"\n",
    "\n",
    "print(dir(fake_dict))\n",
    "# Includes 'attribute' along with many dunder methods\n",
    "```\n",
    "\n",
    "Example – built-in list:\n",
    "\n",
    "```python\n",
    "fun_list = [10, \"string\", {\"abc\": True}]\n",
    "\n",
    "print(type(fun_list))  \n",
    "# <class 'list'>\n",
    "\n",
    "print(dir(fun_list))  \n",
    "# Shows many dunder methods and list methods like append, remove, sort, etc.\n",
    "```\n",
    "\n",
    "Key points:\n",
    "\n",
    "* User-defined objects and Python’s built-in types are all **instances of classes**.\n",
    "* Built-in data types (`int`, `str`, `list`, `dict`, etc.) are classes with special literal syntax (`1`, `\"hello\"`, `[]`, `{}`).\n",
    "* Using `dir()` helps explore available methods and attributes for any object.\n"
   ]
  },
  {
   "cell_type": "code",
   "execution_count": 14,
   "id": "14f48e2a",
   "metadata": {},
   "outputs": [
    {
     "name": "stdout",
     "output_type": "stream",
     "text": [
      "['__abs__', '__add__', '__and__', '__bool__', '__ceil__', '__class__', '__delattr__', '__dir__', '__divmod__', '__doc__', '__eq__', '__float__', '__floor__', '__floordiv__', '__format__', '__ge__', '__getattribute__', '__getnewargs__', '__gt__', '__hash__', '__index__', '__init__', '__init_subclass__', '__int__', '__invert__', '__le__', '__lshift__', '__lt__', '__mod__', '__mul__', '__ne__', '__neg__', '__new__', '__or__', '__pos__', '__pow__', '__radd__', '__rand__', '__rdivmod__', '__reduce__', '__reduce_ex__', '__repr__', '__rfloordiv__', '__rlshift__', '__rmod__', '__rmul__', '__ror__', '__round__', '__rpow__', '__rrshift__', '__rshift__', '__rsub__', '__rtruediv__', '__rxor__', '__setattr__', '__sizeof__', '__str__', '__sub__', '__subclasshook__', '__truediv__', '__trunc__', '__xor__', 'as_integer_ratio', 'bit_count', 'bit_length', 'conjugate', 'denominator', 'from_bytes', 'imag', 'numerator', 'real', 'to_bytes']\n",
      "['__annotations__', '__builtins__', '__call__', '__class__', '__closure__', '__code__', '__defaults__', '__delattr__', '__dict__', '__dir__', '__doc__', '__eq__', '__format__', '__ge__', '__get__', '__getattribute__', '__globals__', '__gt__', '__hash__', '__init__', '__init_subclass__', '__kwdefaults__', '__le__', '__lt__', '__module__', '__name__', '__ne__', '__new__', '__qualname__', '__reduce__', '__reduce_ex__', '__repr__', '__setattr__', '__sizeof__', '__str__', '__subclasshook__']\n"
     ]
    }
   ],
   "source": [
    "# ======================\n",
    "# Instruction: Call dir() on the number 5 and print the results.\n",
    "# ======================\n",
    "print(dir(5))\n",
    "\n",
    "# ======================\n",
    "# Instruction: Define a function called this_function_is_an_object.\n",
    "#   - It can take any parameters and return anything you'd like.\n",
    "# ======================\n",
    "def this_function_is_an_object(param):\n",
    "    return param\n",
    "\n",
    "# ======================\n",
    "# Instruction: Print out the result of calling dir() on this_function_is_an_object.\n",
    "#   - Functions are objects too, so dir() works on them as well.\n",
    "# ======================\n",
    "print(dir(this_function_is_an_object))\n"
   ]
  },
  {
   "cell_type": "markdown",
   "id": "ffa1b25f",
   "metadata": {},
   "source": [
    "## Introduction to Classes – String Representation\n",
    "\n",
    "By default, printing an object shows a technical representation with the class name and memory address, which is rarely helpful when debugging:\n",
    "\n",
    "```python\n",
    "class Employee:\n",
    "    def __init__(self, name):\n",
    "        self.name = name\n",
    "\n",
    "argus = Employee(\"Argus Filch\")\n",
    "print(argus)\n",
    "# <__main__.Employee object at 0x...>\n",
    "```\n",
    "\n",
    "To make objects more readable, we can define the special **dunder method** `__repr__()`.\n",
    "\n",
    "* `__repr__()` must take only `self` as a parameter.\n",
    "* It must return a **string**, usually something meaningful about the object.\n",
    "\n",
    "Example:\n",
    "\n",
    "```python\n",
    "class Employee:\n",
    "    def __init__(self, name):\n",
    "        self.name = name\n",
    "\n",
    "    def __repr__(self):\n",
    "        return self.name\n",
    "\n",
    "argus = Employee(\"Argus Filch\")\n",
    "print(argus)\n",
    "# Argus Filch\n",
    "```\n",
    "\n",
    "Key points:\n",
    "\n",
    "* `__repr__()` customizes how objects are displayed when printed.\n",
    "* It’s especially useful for debugging, since it can show clear and relevant details.\n",
    "* Returning a descriptive string makes your objects much easier to work with.\n"
   ]
  },
  {
   "cell_type": "code",
   "execution_count": 15,
   "id": "b0bc2ff1",
   "metadata": {},
   "outputs": [
    {
     "name": "stdout",
     "output_type": "stream",
     "text": [
      "Circle with radius 6.0\n",
      "Circle with radius 18.0\n",
      "Circle with radius 5730.0\n"
     ]
    }
   ],
   "source": [
    "# ======================\n",
    "# Instruction: Add a __repr__() method to Circle that returns \"Circle with radius {radius}\".\n",
    "# ======================\n",
    "class Circle:\n",
    "    pi = 3.14\n",
    "\n",
    "    def __init__(self, diameter):\n",
    "        self.radius = diameter / 2\n",
    "\n",
    "    def area(self):\n",
    "        return self.pi * self.radius ** 2\n",
    "\n",
    "    def circumference(self):\n",
    "        return self.pi * 2 * self.radius\n",
    "\n",
    "    def __repr__(self):\n",
    "        return \"Circle with radius {}\".format(self.radius)\n",
    "\n",
    "\n",
    "# ======================\n",
    "# Instruction: Print medium_pizza, teaching_table, and round_room.\n",
    "# ======================\n",
    "medium_pizza = Circle(12)\n",
    "teaching_table = Circle(36)\n",
    "round_room = Circle(11460)\n",
    "\n",
    "print(medium_pizza)\n",
    "print(teaching_table)\n",
    "print(round_room)\n"
   ]
  },
  {
   "cell_type": "markdown",
   "id": "f187f67c",
   "metadata": {},
   "source": [
    "## Review"
   ]
  },
  {
   "cell_type": "code",
   "execution_count": 16,
   "id": "177bcdb1",
   "metadata": {},
   "outputs": [],
   "source": [
    "# ======================\n",
    "# Instruction: Define a Student class with a constructor that takes name and year.\n",
    "#   - Save them as attributes .name and .year.\n",
    "#   - Also declare self.grades as an empty list.\n",
    "# ======================\n",
    "class Student:\n",
    "    def __init__(self, name, year):\n",
    "        self.name = name\n",
    "        self.year = year\n",
    "        self.grades = []\n",
    "\n",
    "    # ======================\n",
    "    # Instruction: Add an .add_grade() method.\n",
    "    #   - Takes a grade as parameter.\n",
    "    #   - If grade is an instance of Grade, append it to self.grades.\n",
    "    # ======================\n",
    "    def add_grade(self, grade):\n",
    "        if type(grade) is Grade:\n",
    "            self.grades.append(grade)\n",
    "\n",
    "\n",
    "# ======================\n",
    "# Instruction: Create a Grade class with attribute .minimum_passing set to 65.\n",
    "#   - Add constructor taking score and saving it to self.score.\n",
    "# ======================\n",
    "class Grade:\n",
    "    minimum_passing = 65\n",
    "\n",
    "    def __init__(self, score):\n",
    "        self.score = score\n",
    "\n",
    "\n",
    "# ======================\n",
    "# Instruction: Create three Student instances:\n",
    "#   - roger: \"Roger van der Weyden\", year 10\n",
    "#   - sandro: \"Sandro Botticelli\", year 12\n",
    "#   - pieter: \"Pieter Bruegel the Elder\", year 8\n",
    "# ======================\n",
    "roger = Student(\"Roger van der Weyden\", 10)\n",
    "sandro = Student(\"Sandro Botticelli\", 12)\n",
    "pieter = Student(\"Pieter Bruegel the Elder\", 8)\n",
    "\n",
    "# ======================\n",
    "# Instruction: Create a Grade with score 100 and add it to pieter’s grades.\n",
    "# ======================\n",
    "new_grade = Grade(100)\n",
    "pieter.add_grade(new_grade)\n"
   ]
  },
  {
   "cell_type": "markdown",
   "id": "675ad872",
   "metadata": {},
   "source": [
    "#  Python Classes: Medical Insurance Project"
   ]
  },
  {
   "cell_type": "markdown",
   "id": "c0f1af24",
   "metadata": {},
   "source": [
    "You have been asked to develop a system that makes it easier to organize patient data. You will create a class that does the following:\n",
    "\n",
    "Takes in patient parameters regarding their personal information\n",
    "Contains methods that allow users to update their information\n",
    "Gives patients insight into their potential medical fees.\n",
    "Let's get started!"
   ]
  },
  {
   "cell_type": "markdown",
   "id": "e7adcdb7",
   "metadata": {},
   "source": [
    "##  Building our Constructor"
   ]
  },
  {
   "cell_type": "markdown",
   "id": "ff3475a1",
   "metadata": {},
   "source": [
    "1. If you look at the code block below, you will see that we have started a class called Patient. It currently has an __init__ method with two class variables: self.name and self.age.\n",
    "\n",
    "Let's start by adding in some more patient parameters:\n",
    "\n",
    "sex: patient's biological identification, 0 for male and 1 for female\n",
    "bmi: patient BMI\n",
    "num_of_children: number of children patient has\n",
    "smoker: patient smoking status, 0 for a non-smoker and 1 for a smoker\n",
    "Add these into the __init__ method so that we can use them as we create our class methods.\n",
    "\n",
    "class Patient:"
   ]
  },
  {
   "cell_type": "code",
   "execution_count": 18,
   "id": "cc7c614e",
   "metadata": {},
   "outputs": [],
   "source": [
    "class Patient:\n",
    "    def __init__(self, name, age, sex, bmi, num_of_children, smoker):\n",
    "        self.name = name\n",
    "        self.age = age\n",
    "        # add more parameters here\n",
    "        self.sex = sex\n",
    "        self.bmi = bmi\n",
    "        self.num_of_children = num_of_children \n",
    "        self.smoker = smoker"
   ]
  },
  {
   "cell_type": "markdown",
   "id": "511b3f94",
   "metadata": {},
   "source": [
    "2. Let's test out our __init__ method and create our first instance variable.\n",
    "\n",
    "Create an instance variable outside of our class called patient1.\n",
    "\n",
    "patient1 = Patient(\"John Doe\", 25, 1, 22.2, 0, 0)\n",
    "\n",
    "Next, print out the name of patient1 using the following line of code:\n",
    "\n",
    "print(patient1.name)\n",
    "\n",
    "Print out the rest of patient1's information to ensure the __init__ method is functioning properly."
   ]
  },
  {
   "cell_type": "code",
   "execution_count": 20,
   "id": "eab4fd91",
   "metadata": {},
   "outputs": [
    {
     "name": "stdout",
     "output_type": "stream",
     "text": [
      "John Doe\n"
     ]
    }
   ],
   "source": [
    "patient1 = Patient(\"John Doe\", 25, 1, 22.2, 0, 0)\n",
    "\n",
    "print(patient1.name)"
   ]
  },
  {
   "cell_type": "markdown",
   "id": "951e216a",
   "metadata": {},
   "source": [
    "##   Adding Functionality with Methods"
   ]
  },
  {
   "cell_type": "markdown",
   "id": "d5bbf777",
   "metadata": {},
   "source": [
    "3. Now that our constructor is built out and ready to go, let's start creating some methods! Our first method will be estimated_insurance_cost(), which takes our instance's parameters (representing our patient's information) and returns their expected yearly medical fees.\n",
    "\n",
    "Below the __init__ constructor, define our estimated_insurance_cost() constructor which only takes self as an argument. Inside of this method, add the following formula:\n",
    "\n",
    "𝑒𝑠𝑡𝑖𝑚𝑎𝑡𝑒𝑑_𝑐𝑜𝑠𝑡=250∗𝑎𝑔𝑒−128∗𝑠𝑒𝑥+370∗𝑏𝑚𝑖+425∗𝑛𝑢𝑚_𝑜𝑓_𝑐ℎ𝑖𝑙𝑑𝑟𝑒𝑛+24000∗𝑠𝑚𝑜𝑘𝑒𝑟−12500\n",
    " \n",
    "\n",
    "Note that we are using class variables in our formula here, so be sure to remember to use the self keyword."
   ]
  },
  {
   "cell_type": "code",
   "execution_count": 26,
   "id": "d573af51",
   "metadata": {},
   "outputs": [],
   "source": [
    "class Patient:\n",
    "    def __init__(self, name, age, sex, bmi, num_of_children, smoker):\n",
    "        self.name = name\n",
    "        self.age = age\n",
    "\n",
    "        self.sex = sex\n",
    "        self.bmi = bmi\n",
    "        self.num_of_children = num_of_children \n",
    "        self.smoker = smoker\n",
    "    \n",
    "    def estimated_insurance_cost(self):\n",
    "        estimated_cost = 250 * self.age - 128 * self.sex + 370 * self.bmi + 425 * self.num_of_children + 24000 * self.smoker - 12500"
   ]
  },
  {
   "cell_type": "markdown",
   "id": "b602c6e0",
   "metadata": {},
   "source": [
    "4. Inside of our estimated_insurance_cost() method, let's add a print statement that displays the following:\n",
    "\n",
    "{Patient Name}'s estimated insurance costs is {estimated cost} dollars.\n",
    "Then, test out this method using the patient1 instance variable."
   ]
  },
  {
   "cell_type": "code",
   "execution_count": 27,
   "id": "def0e330",
   "metadata": {},
   "outputs": [
    {
     "name": "stdout",
     "output_type": "stream",
     "text": [
      "John Doe's estimated insurance cost is  1836.0\n"
     ]
    }
   ],
   "source": [
    "class Patient:\n",
    "    def __init__(self, name, age, sex, bmi, num_of_children, smoker):\n",
    "        self.name = name\n",
    "        self.age = age\n",
    "\n",
    "        self.sex = sex\n",
    "        self.bmi = bmi\n",
    "        self.num_of_children = num_of_children \n",
    "        self.smoker = smoker\n",
    "    \n",
    "    def estimated_insurance_cost(self):\n",
    "        estimated_cost = 250 * self.age - 128 * self.sex + 370 * self.bmi + 425 * self.num_of_children + 24000 * self.smoker - 12500\n",
    "        print(self.name + \"'s estimated insurance cost is  \" + str(estimated_cost))\n",
    "\n",
    "        # You must \n",
    "patient1 = Patient(\"John Doe\", 25, 1, 22.2, 0, 0)\n",
    "patient1.estimated_insurance_cost()"
   ]
  },
  {
   "cell_type": "markdown",
   "id": "b85048c2",
   "metadata": {},
   "source": [
    "5. We already have one super useful method in our class! Let's add some more and make our Patient class even more powerful.\n",
    "\n",
    "What if our patient recently had a birthday? Or had a fluctuation in weight? Or had a kid? Let's add some methods that allow us to update these parameters and recalculate the estimated medical fees in one swing.\n",
    "\n",
    "First, create an update_age() method. It should take in two arguments: self and new_age. In this method reassign self.age to new_age."
   ]
  },
  {
   "cell_type": "code",
   "execution_count": 28,
   "id": "7c2e84c7",
   "metadata": {},
   "outputs": [
    {
     "name": "stdout",
     "output_type": "stream",
     "text": [
      "26\n"
     ]
    }
   ],
   "source": [
    "class Patient:\n",
    "    def __init__(self, name, age, sex, bmi, num_of_children, smoker):\n",
    "        self.name = name\n",
    "        self.age = age\n",
    "\n",
    "        self.sex = sex\n",
    "        self.bmi = bmi\n",
    "        self.num_of_children = num_of_children \n",
    "        self.smoker = smoker\n",
    "    \n",
    "    def estimated_insurance_cost(self):\n",
    "        estimated_cost = 250 * self.age - 128 * self.sex + 370 * self.bmi + 425 * self.num_of_children + 24000 * self.smoker - 12500\n",
    "        print(self.name + \"'s estimated insurance cost is  \" + str(estimated_cost))\n",
    "    \n",
    "    def update_age(self, new_age):\n",
    "        self.age = new_age\n",
    "\n",
    "\n",
    "patient1 = Patient(\"John Doe\", 25, 1, 22.2, 0, 0)\n",
    "patient1.update_age(26)\n",
    "print(patient1.age)"
   ]
  },
  {
   "cell_type": "markdown",
   "id": "d34354ad",
   "metadata": {},
   "source": [
    "6. Let's flesh out this method some more!\n",
    "\n",
    "Add a print statement that outputs the following statement:\n",
    "\n",
    "{Patient Name} is now {Patient Age} years old.\n",
    "Test out your method using the patient1 instance variable."
   ]
  },
  {
   "cell_type": "code",
   "execution_count": 29,
   "id": "71412e96",
   "metadata": {},
   "outputs": [
    {
     "name": "stdout",
     "output_type": "stream",
     "text": [
      "John Doe is now 26 years old.\n",
      "26\n"
     ]
    }
   ],
   "source": [
    "class Patient:\n",
    "    def __init__(self, name, age, sex, bmi, num_of_children, smoker):\n",
    "        self.name = name\n",
    "        self.age = age\n",
    "\n",
    "        self.sex = sex\n",
    "        self.bmi = bmi\n",
    "        self.num_of_children = num_of_children \n",
    "        self.smoker = smoker\n",
    "    \n",
    "    def estimated_insurance_cost(self):\n",
    "        estimated_cost = 250 * self.age - 128 * self.sex + 370 * self.bmi + 425 * self.num_of_children + 24000 * self.smoker - 12500\n",
    "        print(self.name + \"'s estimated insurance cost is  \" + str(estimated_cost))\n",
    "    \n",
    "    def update_age(self, new_age):\n",
    "        self.age = new_age\n",
    "        print(self.name + \" is now \" + str(self.age) + \" years old.\")\n",
    "\n",
    "patient1 = Patient(\"John Doe\", 25, 1, 22.2, 0, 0)\n",
    "patient1.update_age(26)\n",
    "print(patient1.age)"
   ]
  },
  {
   "cell_type": "markdown",
   "id": "f91b3069",
   "metadata": {},
   "source": [
    "7. We also want to see what the new insurance expenses are. Call the estimated_insurance_cost() method in update_age() using this line of code:\n",
    "\n",
    "self.estimated_insurance_cost()\n",
    "Test out your method with patient1."
   ]
  },
  {
   "cell_type": "code",
   "execution_count": 30,
   "id": "68997fa2",
   "metadata": {},
   "outputs": [
    {
     "name": "stdout",
     "output_type": "stream",
     "text": [
      "John Doe is now 26 years old.\n",
      "John Doe's estimated insurance cost is  2086.0\n",
      "26\n"
     ]
    }
   ],
   "source": [
    "class Patient:\n",
    "    def __init__(self, name, age, sex, bmi, num_of_children, smoker):\n",
    "        self.name = name\n",
    "        self.age = age\n",
    "\n",
    "        self.sex = sex\n",
    "        self.bmi = bmi\n",
    "        self.num_of_children = num_of_children \n",
    "        self.smoker = smoker\n",
    "    \n",
    "    def estimated_insurance_cost(self):\n",
    "        estimated_cost = 250 * self.age - 128 * self.sex + 370 * self.bmi + 425 * self.num_of_children + 24000 * self.smoker - 12500\n",
    "        print(self.name + \"'s estimated insurance cost is  \" + str(estimated_cost))\n",
    "    \n",
    "    def update_age(self, new_age):\n",
    "        self.age = new_age\n",
    "        print(self.name + \" is now \" + str(self.age) + \" years old.\")\n",
    "        self.estimated_insurance_cost()\n",
    "\n",
    "patient1 = Patient(\"John Doe\", 25, 1, 22.2, 0, 0)\n",
    "patient1.update_age(26)\n",
    "print(patient1.age)"
   ]
  },
  {
   "cell_type": "markdown",
   "id": "4eb6156d",
   "metadata": {},
   "source": [
    "8. Let's make another update method that modifies the num_of_children parameter.\n",
    "\n",
    "Below the update_age() method, define a new one called update_num_children(). This method should have two arguments, self and new_num_children. Inside the method, self.num_of_children should be set equal to new_num_children."
   ]
  },
  {
   "cell_type": "code",
   "execution_count": 31,
   "id": "c677c27c",
   "metadata": {},
   "outputs": [],
   "source": [
    "class Patient:\n",
    "    def __init__(self, name, age, sex, bmi, num_of_children, smoker):\n",
    "        self.name = name\n",
    "        self.age = age\n",
    "\n",
    "        self.sex = sex\n",
    "        self.bmi = bmi\n",
    "        self.num_of_children = num_of_children \n",
    "        self.smoker = smoker\n",
    "    \n",
    "    def estimated_insurance_cost(self):\n",
    "        estimated_cost = 250 * self.age - 128 * self.sex + 370 * self.bmi + 425 * self.num_of_children + 24000 * self.smoker - 12500\n",
    "        print(self.name + \"'s estimated insurance cost is  \" + str(estimated_cost))\n",
    "    \n",
    "    def update_age(self, new_age):\n",
    "        self.age = new_age\n",
    "        print(self.name + \" is now \" + str(self.age) + \" years old.\")\n",
    "        self.estimated_insurance_cost()\n",
    "        \n",
    "    def update_num_children(self, new_num_children):\n",
    "        self.num_of_children = new_num_children"
   ]
  },
  {
   "cell_type": "code",
   "execution_count": 32,
   "id": "9edbb8da",
   "metadata": {},
   "outputs": [
    {
     "name": "stdout",
     "output_type": "stream",
     "text": [
      "Previous age:\n",
      "25\n",
      "John Doe is now 26 years old.\n",
      "John Doe's estimated insurance cost is  2086.0\n",
      "New age:\n",
      "26\n",
      "Previous children;\n",
      "0\n",
      "New children:\n",
      "2\n"
     ]
    }
   ],
   "source": [
    "# Check Up\n",
    "patient1 = Patient(\"John Doe\", 25, 1, 22.2, 0, 0)\n",
    "print(\"Previous age:\")\n",
    "print(patient1.age)\n",
    "patient1.update_age(26)\n",
    "print(\"New age:\")\n",
    "print(patient1.age)\n",
    "print(\"Previous children;\")\n",
    "print(patient1.num_of_children)\n",
    "patient1.update_num_children(2)\n",
    "print(\"New children:\")\n",
    "print(patient1.num_of_children)"
   ]
  },
  {
   "cell_type": "markdown",
   "id": "52fc945a",
   "metadata": {},
   "source": [
    "9. Similarly to the method we wrote before, let's add in a print statement that clarifies the information that is being updated.\n",
    "\n",
    "Your print statement should output the following:\n",
    "\n",
    "{Patient Name} has {Patient's Number of Children} children.\n",
    "Use the patient1 instance variable to test out this method. Set the new_num_children argument to 1. Do you notice anything strange in the output?"
   ]
  },
  {
   "cell_type": "code",
   "execution_count": 33,
   "id": "e819b094",
   "metadata": {},
   "outputs": [],
   "source": [
    "class Patient:\n",
    "    def __init__(self, name, age, sex, bmi, num_of_children, smoker):\n",
    "        self.name = name\n",
    "        self.age = age\n",
    "\n",
    "        self.sex = sex\n",
    "        self.bmi = bmi\n",
    "        self.num_of_children = num_of_children \n",
    "        self.smoker = smoker\n",
    "    \n",
    "    def estimated_insurance_cost(self):\n",
    "        estimated_cost = 250 * self.age - 128 * self.sex + 370 * self.bmi + 425 * self.num_of_children + 24000 * self.smoker - 12500\n",
    "        print(self.name + \"'s estimated insurance cost is  \" + str(estimated_cost))\n",
    "    \n",
    "    def update_age(self, new_age):\n",
    "        self.age = new_age\n",
    "        print(self.name + \" is now \" + str(self.age) + \" years old.\")\n",
    "        self.estimated_insurance_cost()\n",
    "        \n",
    "    def update_num_children(self, new_num_children):\n",
    "        self.num_of_children = new_num_children\n",
    "        print(self.name + \" has \" + str(self.num_of_children) + \" children.\")"
   ]
  },
  {
   "cell_type": "code",
   "execution_count": 34,
   "id": "61703f0b",
   "metadata": {},
   "outputs": [
    {
     "name": "stdout",
     "output_type": "stream",
     "text": [
      "Previous age:\n",
      "25\n",
      "John Doe is now 26 years old.\n",
      "John Doe's estimated insurance cost is  2086.0\n",
      "New age:\n",
      "26\n",
      "Previous children;\n",
      "0\n",
      "John Doe has 1 children.\n",
      "New children:\n",
      "1\n"
     ]
    }
   ],
   "source": [
    "# Check Up\n",
    "patient1 = Patient(\"John Doe\", 25, 1, 22.2, 0, 0)\n",
    "print(\"Previous age:\")\n",
    "print(patient1.age)\n",
    "patient1.update_age(26)\n",
    "print(\"New age:\")\n",
    "print(patient1.age)\n",
    "print(\"Previous children;\")\n",
    "print(patient1.num_of_children)\n",
    "patient1.update_num_children(1)\n",
    "print(\"New children:\")\n",
    "print(patient1.num_of_children)"
   ]
  },
  {
   "cell_type": "markdown",
   "id": "e94c5779",
   "metadata": {},
   "source": [
    "10. You may have noticed our output is grammatically incorrect because John Doe only has 1 child. Let's update our method to accurately convey when we should use the noun \"children\" versus when we should use \"child\".\n",
    "\n",
    "To do this we can use control flow.\n",
    "\n",
    "If the patient has 1 offspring, we should see the following output:\n",
    "\n",
    "{Patient Name} has {Patient Number of Children} child.\n",
    "Otherwise, we should see this output:\n",
    "\n",
    "{Patient Name} has {Patient Number of Children} children.\n",
    "Write out your control flow program, and test it out using patient1."
   ]
  },
  {
   "cell_type": "code",
   "execution_count": 35,
   "id": "3e496455",
   "metadata": {},
   "outputs": [],
   "source": [
    "class Patient:\n",
    "    def __init__(self, name, age, sex, bmi, num_of_children, smoker):\n",
    "        self.name = name\n",
    "        self.age = age\n",
    "\n",
    "        self.sex = sex\n",
    "        self.bmi = bmi\n",
    "        self.num_of_children = num_of_children \n",
    "        self.smoker = smoker\n",
    "    \n",
    "    def estimated_insurance_cost(self):\n",
    "        estimated_cost = 250 * self.age - 128 * self.sex + 370 * self.bmi + 425 * self.num_of_children + 24000 * self.smoker - 12500\n",
    "        print(self.name + \"'s estimated insurance cost is  \" + str(estimated_cost))\n",
    "    \n",
    "    def update_age(self, new_age):\n",
    "        self.age = new_age\n",
    "        print(self.name + \" is now \" + str(self.age) + \" years old.\")\n",
    "        self.estimated_insurance_cost()\n",
    "        \n",
    "    def update_num_children(self, new_num_children):\n",
    "        self.num_of_children = new_num_children\n",
    "        if new_num_children == 1:\n",
    "            print(self.name + \" has \" + str(self.num_of_children) + \" child.\")\n",
    "        else:\n",
    "            print(self.name + \" has \" + str(self.num_of_children) + \" children.\")"
   ]
  },
  {
   "cell_type": "code",
   "execution_count": 36,
   "id": "23f91a95",
   "metadata": {},
   "outputs": [
    {
     "name": "stdout",
     "output_type": "stream",
     "text": [
      "Previous children;\n",
      "0\n",
      "John Doe has 1 child.\n",
      "New children:\n",
      "1\n",
      "Previous children;\n",
      "1\n",
      "John Doe has 2 children.\n",
      "New children:\n",
      "2\n"
     ]
    }
   ],
   "source": [
    "# Check Up\n",
    "patient1 = Patient(\"John Doe\", 25, 1, 22.2, 0, 0)\n",
    "print(\"Previous children;\")\n",
    "print(patient1.num_of_children)\n",
    "patient1.update_num_children(1)\n",
    "print(\"New children:\")\n",
    "print(patient1.num_of_children)\n",
    "print(\"Previous children;\")\n",
    "print(patient1.num_of_children)\n",
    "patient1.update_num_children(2)\n",
    "print(\"New children:\")\n",
    "print(patient1.num_of_children)"
   ]
  },
  {
   "cell_type": "markdown",
   "id": "20ef5b6c",
   "metadata": {},
   "source": [
    "11. To finish off the update_num_children() method, let's call our estimated_insurance_cost() method at the end.\n",
    "\n",
    "Use patient1 to ensure that everything is functioning as expected!"
   ]
  },
  {
   "cell_type": "code",
   "execution_count": 37,
   "id": "db11670b",
   "metadata": {},
   "outputs": [],
   "source": [
    "class Patient:\n",
    "    def __init__(self, name, age, sex, bmi, num_of_children, smoker):\n",
    "        self.name = name\n",
    "        self.age = age\n",
    "\n",
    "        self.sex = sex\n",
    "        self.bmi = bmi\n",
    "        self.num_of_children = num_of_children \n",
    "        self.smoker = smoker\n",
    "    \n",
    "    def estimated_insurance_cost(self):\n",
    "        estimated_cost = 250 * self.age - 128 * self.sex + 370 * self.bmi + 425 * self.num_of_children + 24000 * self.smoker - 12500\n",
    "        print(self.name + \"'s estimated insurance cost is  \" + str(estimated_cost))\n",
    "    \n",
    "    def update_age(self, new_age):\n",
    "        self.age = new_age\n",
    "        print(self.name + \" is now \" + str(self.age) + \" years old.\")\n",
    "        self.estimated_insurance_cost()\n",
    "        \n",
    "    def update_num_children(self, new_num_children):\n",
    "        self.num_of_children = new_num_children\n",
    "        if new_num_children == 1:\n",
    "            print(self.name + \" has \" + str(self.num_of_children) + \" child.\")\n",
    "        else:\n",
    "            print(self.name + \" has \" + str(self.num_of_children) + \" children.\")\n",
    "        self.estimated_insurance_cost()"
   ]
  },
  {
   "cell_type": "code",
   "execution_count": 38,
   "id": "85273b01",
   "metadata": {},
   "outputs": [
    {
     "name": "stdout",
     "output_type": "stream",
     "text": [
      "Previous children;\n",
      "0\n",
      "John Doe has 1 child.\n",
      "John Doe's estimated insurance cost is  2261.0\n",
      "New children:\n",
      "1\n",
      "Previous children;\n",
      "1\n",
      "John Doe has 2 children.\n",
      "John Doe's estimated insurance cost is  2686.0\n",
      "New children:\n",
      "2\n"
     ]
    }
   ],
   "source": [
    "# Check Up\n",
    "patient1 = Patient(\"John Doe\", 25, 1, 22.2, 0, 0)\n",
    "print(\"Previous children;\")\n",
    "print(patient1.num_of_children)\n",
    "patient1.update_num_children(1)\n",
    "print(\"New children:\")\n",
    "print(patient1.num_of_children)\n",
    "print(\"Previous children;\")\n",
    "print(patient1.num_of_children)\n",
    "patient1.update_num_children(2)\n",
    "print(\"New children:\")\n",
    "print(patient1.num_of_children)"
   ]
  },
  {
   "cell_type": "markdown",
   "id": "8eded3fa",
   "metadata": {},
   "source": [
    "## Storing Patient Information"
   ]
  },
  {
   "cell_type": "markdown",
   "id": "57ac7e78",
   "metadata": {},
   "source": [
    "12. Let's create one last method that uses a dictionary to store a patient's information in one convenient variable. We can use our parameters as the keys and their specific data as the values.\n",
    "\n",
    "Define a method called patient_profile() that builds a dictionary called patient_information to hold all of our patient's information."
   ]
  },
  {
   "cell_type": "code",
   "execution_count": 39,
   "id": "649e7581",
   "metadata": {},
   "outputs": [],
   "source": [
    "class Patient:\n",
    "    def __init__(self, name, age, sex, bmi, num_of_children, smoker):\n",
    "        self.name = name\n",
    "        self.age = age\n",
    "\n",
    "        self.sex = sex\n",
    "        self.bmi = bmi\n",
    "        self.num_of_children = num_of_children \n",
    "        self.smoker = smoker\n",
    "    \n",
    "    def estimated_insurance_cost(self):\n",
    "        estimated_cost = 250 * self.age - 128 * self.sex + 370 * self.bmi + 425 * self.num_of_children + 24000 * self.smoker - 12500\n",
    "        print(self.name + \"'s estimated insurance cost is  \" + str(estimated_cost))\n",
    "    \n",
    "    def update_age(self, new_age):\n",
    "        self.age = new_age\n",
    "        print(self.name + \" is now \" + str(self.age) + \" years old.\")\n",
    "        self.estimated_insurance_cost()\n",
    "        \n",
    "    def update_num_children(self, new_num_children):\n",
    "        self.num_of_children = new_num_children\n",
    "        if new_num_children == 1:\n",
    "            print(self.name + \" has \" + str(self.num_of_children) + \" child.\")\n",
    "        else:\n",
    "            print(self.name + \" has \" + str(self.num_of_children) + \" children.\")\n",
    "        self.estimated_insurance_cost()\n",
    "    \n",
    "    def patient_profile(self):\n",
    "        patient_information = {\n",
    "            \"name\": self.name,\n",
    "            \"age\": self.age,\n",
    "            \"sex\": self.sex,\n",
    "            \"bmi\": self.bmi,\n",
    "            \"children\": self.num_of_children,\n",
    "            \"smoker\": self.smoker\n",
    "        }\n",
    "        return patient_information"
   ]
  },
  {
   "cell_type": "markdown",
   "id": "1dde8a4d",
   "metadata": {},
   "source": [
    "13. Let's test out our final method! Use patient1 to call the method patient_profile().\n",
    "\n",
    "Remember that in patient_profile() we used a return statement rather than a print statement. In order to see our dictionary outputted, we must wrap a print statement around our method call."
   ]
  },
  {
   "cell_type": "code",
   "execution_count": 40,
   "id": "8b146d4c",
   "metadata": {},
   "outputs": [
    {
     "name": "stdout",
     "output_type": "stream",
     "text": [
      "{'name': 'John Doe', 'age': 25, 'sex': 1, 'bmi': 22.2, 'children': 0, 'smoker': 0}\n"
     ]
    }
   ],
   "source": [
    "patient1 = Patient(\"John Doe\", 25, 1, 22.2, 0, 0)\n",
    "print(patient1.patient_profile())"
   ]
  },
  {
   "cell_type": "markdown",
   "id": "bc41bc00",
   "metadata": {},
   "source": [
    "# Introduction to Modules"
   ]
  },
  {
   "cell_type": "markdown",
   "id": "75d84987",
   "metadata": {},
   "source": [
    "## Modules – Python Introduction\n",
    "\n",
    "In programming, reusability is essential. Instead of rewriting code for every new task, we organize and share functionality using **modules**.\n",
    "\n",
    "* A **module** is a file (or a group of files, known as a **package**) that contains Python code intended to be reused.\n",
    "* Modules are often called **libraries** or **packages**, especially when they provide tools across many different scenarios.\n",
    "* To use a module, we import it into our program.\n",
    "\n",
    "Basic import syntax:\n",
    "\n",
    "```\n",
    "from module_name import object_name\n",
    "```\n",
    "\n",
    "This lets us bring only the part we need from a library, instead of loading everything. Doing so avoids unnecessary overhead and prevents conflicts with existing code.\n",
    "\n",
    "Example: the **datetime** module from the Python Standard Library.\n",
    "\n",
    "* `datetime` helps us work with dates and times.\n",
    "* It’s a good example of how modules provide prebuilt functionality that we can plug into our own programs.\n",
    "\n",
    "**Key takeaway**:\n",
    "Modules allow us to reuse code efficiently, keep programs cleaner, and leverage tools written by others, saving us time and effort.\n"
   ]
  },
  {
   "cell_type": "code",
   "execution_count": 42,
   "id": "796e0421",
   "metadata": {},
   "outputs": [
    {
     "name": "stdout",
     "output_type": "stream",
     "text": [
      "2025-09-16 16:11:59.609024\n"
     ]
    }
   ],
   "source": [
    "# ======================\n",
    "# Instruction: Import the datetime type from the datetime library.\n",
    "# ======================\n",
    "from datetime import datetime\n",
    "\n",
    "# ======================\n",
    "# Instruction: Create a variable current_time and set it equal to datetime.now().\n",
    "# ======================\n",
    "current_time = datetime.now()\n",
    "\n",
    "# ======================\n",
    "# Instruction: Print out current_time.\n",
    "# ======================\n",
    "print(current_time)\n"
   ]
  },
  {
   "cell_type": "markdown",
   "id": "b23c1e17",
   "metadata": {},
   "source": [
    "## Modules in Python – Random\n",
    "\n",
    "The **`random`** module is another widely used part of Python’s standard library. It provides tools to generate random numbers or make random selections, which is useful in simulations, games, data sampling, and more.\n",
    "\n",
    "Unlike `datetime`, where we only needed a single object, with `random` we often use multiple functions. That’s why the common practice is to import the whole module:\n",
    "\n",
    "```\n",
    "import random\n",
    "```\n",
    "\n",
    "Two commonly used functions are:\n",
    "\n",
    "* **`random.choice(list)`** → takes a list and returns a random element from it.\n",
    "* **`random.randint(a, b)`** → generates a random integer between `a` and `b`, inclusive.\n",
    "\n",
    "Example use case:\n",
    "\n",
    "1. Create a list of numbers randomly generated between 1 and 100.\n",
    "2. Use `random.choice()` to select a random number from that list.\n",
    "\n",
    "**Key takeaway**:\n",
    "The `random` module is a powerful tool for introducing unpredictability into your programs, allowing you to simulate chance, shuffle data, or generate random values when needed.\n"
   ]
  },
  {
   "cell_type": "code",
   "execution_count": 43,
   "id": "5c6bcb74",
   "metadata": {},
   "outputs": [
    {
     "name": "stdout",
     "output_type": "stream",
     "text": [
      "59\n"
     ]
    }
   ],
   "source": [
    "# ======================\n",
    "# Instruction: Import the random library.\n",
    "# ======================\n",
    "import random\n",
    "\n",
    "# ======================\n",
    "# Instruction: Create a variable random_list and set it equal to an empty list.\n",
    "#   - Then use a list comprehension with random.randint(1, 100) for each i in range(101).\n",
    "# ======================\n",
    "random_list = [random.randint(1, 100) for i in range(101)]\n",
    "\n",
    "# ======================\n",
    "# Instruction: Create randomer_number as a random choice from random_list.\n",
    "# ======================\n",
    "randomer_number = random.choice(random_list)\n",
    "\n",
    "# ======================\n",
    "# Instruction: Print randomer_number to see what number was picked.\n",
    "# ======================\n",
    "print(randomer_number)\n"
   ]
  },
  {
   "cell_type": "markdown",
   "id": "b6b89de1",
   "metadata": {},
   "source": [
    "## Modules in Python – Namespaces\n",
    "\n",
    "When you import a module, Python keeps its functions, classes, and variables inside a **namespace**. This prevents conflicts between your code and the module’s code.\n",
    "\n",
    "For example:\n",
    "\n",
    "* Calling `random.randint()` means we are asking for the `randint` function inside the `random` module’s namespace.\n",
    "* Your file’s own code lives in the **local namespace**, separate from the module’s namespace.\n",
    "\n",
    "### Aliasing with `as`\n",
    "\n",
    "Sometimes module names are long or clash with your local names. You can shorten or rename them when importing:\n",
    "\n",
    "```python\n",
    "import module_name as alias\n",
    "```\n",
    "\n",
    "Example:\n",
    "\n",
    "```python\n",
    "import matplotlib.pyplot as plt\n",
    "```\n",
    "\n",
    "This way, you can type `plt.plot()` instead of the longer `matplotlib.pyplot.plot()`.\n",
    "\n",
    "### Wildcard imports\n",
    "\n",
    "Using `from module import *` brings everything into the local namespace. This is discouraged because it can **pollute the namespace**:\n",
    "\n",
    "* If two things share the same name (like a custom `floor()` function and `math.floor()`), Python won’t know which to use.\n",
    "\n",
    "### Example with `random.sample()`\n",
    "\n",
    "`random.sample()` allows you to select **k random elements** from a list or range.\n",
    "\n",
    "```python\n",
    "nums = [1, 2, 3, 4, 5]\n",
    "sample_nums = random.sample(nums, 3)\n",
    "print(sample_nums)  \n",
    "# Example output: [2, 5, 1]\n",
    "```\n",
    "\n",
    "**Key takeaways:**\n",
    "\n",
    "* Namespaces keep code organized and prevent naming conflicts.\n",
    "* Aliasing (`as`) is helpful for readability and avoiding collisions.\n",
    "* Avoid `import *` to keep your local namespace clean and predictable.\n"
   ]
  },
  {
   "cell_type": "code",
   "execution_count": 44,
   "id": "6c98db86",
   "metadata": {},
   "outputs": [
    {
     "ename": "ModuleNotFoundError",
     "evalue": "No module named 'codecademylib3_seaborn'",
     "output_type": "error",
     "traceback": [
      "\u001b[0;31m---------------------------------------------------------------------------\u001b[0m",
      "\u001b[0;31mModuleNotFoundError\u001b[0m                       Traceback (most recent call last)",
      "Cell \u001b[0;32mIn [44], line 4\u001b[0m\n\u001b[1;32m      1\u001b[0m \u001b[38;5;66;03m# ======================\u001b[39;00m\n\u001b[1;32m      2\u001b[0m \u001b[38;5;66;03m# Instruction: Import pyplot from matplotlib with alias plt.\u001b[39;00m\n\u001b[1;32m      3\u001b[0m \u001b[38;5;66;03m# ======================\u001b[39;00m\n\u001b[0;32m----> 4\u001b[0m \u001b[38;5;28;01mimport\u001b[39;00m \u001b[38;5;21;01mcodecademylib3_seaborn\u001b[39;00m\n\u001b[1;32m      5\u001b[0m \u001b[38;5;28;01mimport\u001b[39;00m \u001b[38;5;21;01mmatplotlib\u001b[39;00m\u001b[38;5;21;01m.\u001b[39;00m\u001b[38;5;21;01mpyplot\u001b[39;00m \u001b[38;5;28;01mas\u001b[39;00m \u001b[38;5;21;01mplt\u001b[39;00m\n\u001b[1;32m      7\u001b[0m \u001b[38;5;66;03m# ======================\u001b[39;00m\n\u001b[1;32m      8\u001b[0m \u001b[38;5;66;03m# Instruction: Import random (keep all imports at the top).\u001b[39;00m\n\u001b[1;32m      9\u001b[0m \u001b[38;5;66;03m# ======================\u001b[39;00m\n",
      "\u001b[0;31mModuleNotFoundError\u001b[0m: No module named 'codecademylib3_seaborn'"
     ]
    }
   ],
   "source": [
    "# ======================\n",
    "# Instruction: Import pyplot from matplotlib with alias plt.\n",
    "# ======================\n",
    "import codecademylib3_seaborn\n",
    "import matplotlib.pyplot as plt\n",
    "\n",
    "# ======================\n",
    "# Instruction: Import random (keep all imports at the top).\n",
    "# ======================\n",
    "import random\n",
    "\n",
    "# ======================\n",
    "# Instruction: Create a variable numbers_a as the range of numbers 1 through 12 (inclusive).\n",
    "# ======================\n",
    "numbers_a = range(1, 13)\n",
    "\n",
    "# ======================\n",
    "# Instruction: Create numbers_b as a random sample of 12 numbers within range(1000).\n",
    "# ======================\n",
    "numbers_b = random.sample(range(1000), 12)\n",
    "\n",
    "# ======================\n",
    "# Instruction: Plot numbers_a against numbers_b with plt.plot().\n",
    "# ======================\n",
    "plt.plot(numbers_a, numbers_b)\n",
    "\n",
    "# ======================\n",
    "# Instruction: Show the plot.\n",
    "# ======================\n",
    "plt.show()\n"
   ]
  },
  {
   "cell_type": "code",
   "execution_count": null,
   "id": "baee3d22",
   "metadata": {},
   "outputs": [],
   "source": []
  }
 ],
 "metadata": {
  "kernelspec": {
   "display_name": "Python 3 (ipykernel)",
   "language": "python",
   "name": "python3"
  },
  "language_info": {
   "codemirror_mode": {
    "name": "ipython",
    "version": 3
   },
   "file_extension": ".py",
   "mimetype": "text/x-python",
   "name": "python",
   "nbconvert_exporter": "python",
   "pygments_lexer": "ipython3",
   "version": "3.10.6"
  },
  "toc": {
   "base_numbering": 1,
   "nav_menu": {},
   "number_sections": true,
   "sideBar": true,
   "skip_h1_title": false,
   "title_cell": "Table of Contents",
   "title_sidebar": "Contents",
   "toc_cell": false,
   "toc_position": {},
   "toc_section_display": true,
   "toc_window_display": false
  }
 },
 "nbformat": 4,
 "nbformat_minor": 5
}
