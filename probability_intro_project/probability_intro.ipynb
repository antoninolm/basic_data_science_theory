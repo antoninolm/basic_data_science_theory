{
 "cells": [
  {
   "cell_type": "markdown",
   "id": "f78e38db",
   "metadata": {},
   "source": [
    "# Introduction to Probability\n",
    "This notebook provides a condensed summary of key concepts from an introductory probability course. Each section pairs theory with a short Python example."
   ]
  },
  {
   "cell_type": "markdown",
   "id": "fddc7f7b",
   "metadata": {},
   "source": [
    "## Sets, Sample Spaces & Events\n",
    "In probability, we use sets to describe the sample space and events. The sample space (S) contains all possible outcomes."
   ]
  },
  {
   "cell_type": "code",
   "execution_count": 1,
   "id": "11b5b5de",
   "metadata": {},
   "outputs": [
    {
     "name": "stdout",
     "output_type": "stream",
     "text": [
      "Union: {1, 2, 3, 4, 5}\n",
      "Intersection: {3}\n",
      "Complement of A: {2, 4, 6}\n"
     ]
    }
   ],
   "source": [
    "S = set(range(1, 7))\n",
    "A = {1, 3, 5}\n",
    "B = {2, 3, 4}\n",
    "print('Union:', A | B)\n",
    "print('Intersection:', A & B)\n",
    "print('Complement of A:', S - A)\n"
   ]
  },
  {
   "cell_type": "markdown",
   "id": "0b3f9377",
   "metadata": {},
   "source": [
    "## Law of Large Numbers (Frequentist Probability)\n",
    "As the number of trials increases, the empirical probability of an event converges to the true probability."
   ]
  },
  {
   "cell_type": "code",
   "execution_count": 2,
   "id": "7d8e0760",
   "metadata": {},
   "outputs": [
    {
     "name": "stdout",
     "output_type": "stream",
     "text": [
      "1000 0.504\n",
      "2000 0.5045\n",
      "3000 0.497\n",
      "4000 0.50325\n",
      "5000 0.4978\n"
     ]
    }
   ],
   "source": [
    "import random\n",
    "p = 0.5\n",
    "hits = 0\n",
    "for n in range(1, 5001):\n",
    "    if random.random() < p:\n",
    "        hits += 1\n",
    "    if n % 1000 == 0:\n",
    "        print(n, hits/n)\n"
   ]
  },
  {
   "cell_type": "markdown",
   "id": "2f50aefc",
   "metadata": {},
   "source": [
    "## Addition Rule (Unions)\n",
    "The probability of (A ∪ B) is P(A) + P(B) - P(A ∩ B)."
   ]
  },
  {
   "cell_type": "code",
   "execution_count": null,
   "id": "41944a2d",
   "metadata": {},
   "outputs": [],
   "source": [
    "S = set(range(1, 7))\n",
    "A = {1, 3, 5}\n",
    "B = {2, 3, 4}\n",
    "P = len(A|B)/len(S)\n",
    "print('P(A or B) =', P)\n"
   ]
  },
  {
   "cell_type": "markdown",
   "id": "7b9f0d8d",
   "metadata": {},
   "source": [
    "## Multiplication (Product) Rule\n",
    "For independent events, the probability of both occurring is the product of their individual probabilities."
   ]
  },
  {
   "cell_type": "code",
   "execution_count": null,
   "id": "671cdaac",
   "metadata": {},
   "outputs": [],
   "source": [
    "p_tail = 0.5\n",
    "print('P(two tails) =', p_tail * p_tail)\n"
   ]
  },
  {
   "cell_type": "markdown",
   "id": "f67ffa76",
   "metadata": {},
   "source": [
    "## Bayes' Theorem\n",
    "Bayes' theorem allows us to update prior beliefs based on new evidence."
   ]
  },
  {
   "cell_type": "code",
   "execution_count": null,
   "id": "b789fa6f",
   "metadata": {},
   "outputs": [],
   "source": [
    "p_D = 0.01\n",
    "sens = 0.95\n",
    "spec = 0.98\n",
    "p_pos = sens*p_D + (1-spec)*(1-p_D)\n",
    "print('P(Disease | Positive) =', sens*p_D / p_pos)\n"
   ]
  },
  {
   "cell_type": "markdown",
   "id": "22c800ef",
   "metadata": {},
   "source": [
    "## Binomial Distribution & PMF\n",
    "The binomial distribution models the number of successes in a fixed number of independent Bernoulli trials."
   ]
  },
  {
   "cell_type": "code",
   "execution_count": null,
   "id": "5adb9ae7",
   "metadata": {},
   "outputs": [],
   "source": [
    "from math import comb\n",
    "def binom_pmf(k, n, p):\n",
    "    return comb(n, k) * (p**k) * ((1-p)**(n-k))\n",
    "print('P(X=6) when n=10, p=0.5 ->', binom_pmf(6, 10, 0.5))\n"
   ]
  },
  {
   "cell_type": "markdown",
   "id": "0cab46a6",
   "metadata": {},
   "source": [
    "## Poisson Distribution\n",
    "The Poisson distribution describes the count of events in a fixed interval when events occur independently at a constant rate."
   ]
  },
  {
   "cell_type": "code",
   "execution_count": null,
   "id": "00699dd4",
   "metadata": {},
   "outputs": [],
   "source": [
    "import math\n",
    "def pois_pmf(k, lam):\n",
    "    return math.exp(-lam)*(lam**k)/math.factorial(k)\n",
    "def pois_cdf(x, lam):\n",
    "    return sum(pois_pmf(k, lam) for k in range(x+1))\n",
    "print('P(X=6) when λ=10 ->', pois_pmf(6, 10))\n"
   ]
  },
  {
   "cell_type": "markdown",
   "id": "133fcab1",
   "metadata": {},
   "source": [
    "## Expected Value and Variance\n",
    "For many distributions, the expected value and variance summarize central tendency and spread."
   ]
  },
  {
   "cell_type": "code",
   "execution_count": null,
   "id": "c4db240e",
   "metadata": {},
   "outputs": [],
   "source": [
    "n, p = 20, 0.3\n",
    "print('Binomial E,Var:', n*p, n*p*(1-p))\n",
    "lam = 12\n",
    "print('Poisson E,Var:', lam, lam)\n"
   ]
  },
  {
   "cell_type": "markdown",
   "id": "33f72d3b",
   "metadata": {},
   "source": [
    "## Independence, Dependence, and Mutual Exclusivity\n",
    "Dependent events influence each other, while independent events do not."
   ]
  },
  {
   "cell_type": "code",
   "execution_count": null,
   "id": "f7c46dbe",
   "metadata": {},
   "outputs": [],
   "source": [
    "# Dependent draws without replacement (2 blue, 3 red)\n",
    "p_blue_then_red = (2/5) * (3/4)\n",
    "print('P(Blue then Red) =', p_blue_then_red)\n"
   ]
  },
  {
   "cell_type": "markdown",
   "id": "a999c689",
   "metadata": {},
   "source": [
    "## Conditional Probability\n",
    "Conditional probability quantifies the probability of one event given that another has occurred."
   ]
  },
  {
   "cell_type": "code",
   "execution_count": null,
   "id": "435035d5",
   "metadata": {},
   "outputs": [],
   "source": [
    "# P(Red second | Blue first) with 2 blue, 3 red (no replacement)\n",
    "print('P(Red second | Blue first) =', 3/4)\n"
   ]
  },
  {
   "cell_type": "markdown",
   "id": "2384f4ce",
   "metadata": {},
   "source": [
    "## Random Variables: Discrete vs. Continuous\n",
    "Random variables map outcomes to numbers; they may be discrete or continuous."
   ]
  },
  {
   "cell_type": "code",
   "execution_count": null,
   "id": "40412709",
   "metadata": {},
   "outputs": [],
   "source": [
    "import random\n",
    "X = random.choice(range(1,7))  # discrete\n",
    "Y = random.random()             # continuous\n",
    "print('Discrete:', X, 'Continuous:', Y)\n"
   ]
  },
  {
   "cell_type": "markdown",
   "id": "373999ab",
   "metadata": {},
   "source": [
    "## Combinatorics: Combinations & Permutations\n",
    "Combinatorics helps count possible outcomes."
   ]
  },
  {
   "cell_type": "code",
   "execution_count": null,
   "id": "e4934325",
   "metadata": {},
   "outputs": [],
   "source": [
    "import math\n",
    "print('Combinations (10 choose 3):', math.comb(10,3))\n",
    "print('Permutations (6 permute 2):', math.perm(6,2))\n"
   ]
  },
  {
   "cell_type": "markdown",
   "id": "39655e7a",
   "metadata": {},
   "source": [
    "## CDF (Cumulative Distribution Function)\n",
    "The cumulative distribution function gives the probability of observing a value less than or equal to x."
   ]
  },
  {
   "cell_type": "code",
   "execution_count": null,
   "id": "b92bb473",
   "metadata": {},
   "outputs": [],
   "source": [
    "from math import comb\n",
    "def binom_pmf(k, n, p):\n",
    "    return comb(n, k) * (p**k) * ((1-p)**(n-k))\n",
    "def binom_cdf(x, n, p):\n",
    "    return sum(binom_pmf(k, n, p) for k in range(x+1))\n",
    "print('P(X≤6) when n=10, p=0.5 ->', binom_cdf(6, 10, 0.5))\n"
   ]
  },
  {
   "cell_type": "markdown",
   "id": "00d0536b",
   "metadata": {},
   "source": [
    "## Normal Distribution & Continuous PDFs\n",
    "The normal distribution is a continuous distribution characterized by mean and standard deviation."
   ]
  },
  {
   "cell_type": "code",
   "execution_count": null,
   "id": "a1f928a3",
   "metadata": {},
   "outputs": [],
   "source": [
    "import math\n",
    "def norm_cdf(x, mu=0, sigma=1):\n",
    "    z = (x-mu)/(sigma*math.sqrt(2))\n",
    "    return 0.5*(1+math.erf(z))\n",
    "print('P(X≤1) for standard normal ->', norm_cdf(1))\n"
   ]
  }
 ],
 "metadata": {
  "kernelspec": {
   "display_name": "Python 3 (ipykernel)",
   "language": "python",
   "name": "python3"
  },
  "language_info": {
   "codemirror_mode": {
    "name": "ipython",
    "version": 3
   },
   "file_extension": ".py",
   "mimetype": "text/x-python",
   "name": "python",
   "nbconvert_exporter": "python",
   "pygments_lexer": "ipython3",
   "version": "3.10.6"
  },
  "toc": {
   "base_numbering": 1,
   "nav_menu": {},
   "number_sections": true,
   "sideBar": true,
   "skip_h1_title": false,
   "title_cell": "Table of Contents",
   "title_sidebar": "Contents",
   "toc_cell": false,
   "toc_position": {},
   "toc_section_display": true,
   "toc_window_display": false
  }
 },
 "nbformat": 4,
 "nbformat_minor": 5
}
